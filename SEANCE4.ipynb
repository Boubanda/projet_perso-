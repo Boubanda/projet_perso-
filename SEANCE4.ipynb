{
 "cells": [
  {
   "cell_type": "markdown",
   "id": "108d4098",
   "metadata": {},
   "source": [
    "# Importer les librairies"
   ]
  },
  {
   "cell_type": "code",
   "execution_count": 107,
   "id": "25169d5e",
   "metadata": {
    "ExecuteTime": {
     "end_time": "2023-10-24T09:16:19.519333Z",
     "start_time": "2023-10-24T09:16:19.506245Z"
    }
   },
   "outputs": [],
   "source": [
    "import pandas as pd\n",
    "import numpy as np\n",
    "import scipy\n",
    "import sklearn"
   ]
  },
  {
   "cell_type": "markdown",
   "id": "18653efb",
   "metadata": {},
   "source": [
    "# Data Acces"
   ]
  },
  {
   "cell_type": "code",
   "execution_count": 108,
   "id": "6e44166e",
   "metadata": {
    "ExecuteTime": {
     "end_time": "2023-10-24T09:16:20.080307Z",
     "start_time": "2023-10-24T09:16:19.903513Z"
    }
   },
   "outputs": [],
   "source": [
    "data=pd.read_csv(r\"C:\\Users\\sambe\\Desktop\\AIVANCITY\\DM/diamonds.csv\")"
   ]
  },
  {
   "cell_type": "code",
   "execution_count": 109,
   "id": "b5de8220",
   "metadata": {
    "ExecuteTime": {
     "end_time": "2023-10-24T09:16:20.133735Z",
     "start_time": "2023-10-24T09:16:20.088856Z"
    }
   },
   "outputs": [
    {
     "data": {
      "text/html": [
       "<div>\n",
       "<style scoped>\n",
       "    .dataframe tbody tr th:only-of-type {\n",
       "        vertical-align: middle;\n",
       "    }\n",
       "\n",
       "    .dataframe tbody tr th {\n",
       "        vertical-align: top;\n",
       "    }\n",
       "\n",
       "    .dataframe thead th {\n",
       "        text-align: right;\n",
       "    }\n",
       "</style>\n",
       "<table border=\"1\" class=\"dataframe\">\n",
       "  <thead>\n",
       "    <tr style=\"text-align: right;\">\n",
       "      <th></th>\n",
       "      <th>Unnamed: 0</th>\n",
       "      <th>carat</th>\n",
       "      <th>cut</th>\n",
       "      <th>color</th>\n",
       "      <th>clarity</th>\n",
       "      <th>depth</th>\n",
       "      <th>table</th>\n",
       "      <th>price</th>\n",
       "      <th>x</th>\n",
       "      <th>y</th>\n",
       "      <th>z</th>\n",
       "    </tr>\n",
       "  </thead>\n",
       "  <tbody>\n",
       "    <tr>\n",
       "      <th>34831</th>\n",
       "      <td>34832</td>\n",
       "      <td>0.30</td>\n",
       "      <td>Very Good</td>\n",
       "      <td>H</td>\n",
       "      <td>VVS1</td>\n",
       "      <td>63.3</td>\n",
       "      <td>60.0</td>\n",
       "      <td>878</td>\n",
       "      <td>4.25</td>\n",
       "      <td>4.22</td>\n",
       "      <td>2.68</td>\n",
       "    </tr>\n",
       "    <tr>\n",
       "      <th>46674</th>\n",
       "      <td>46675</td>\n",
       "      <td>0.59</td>\n",
       "      <td>Premium</td>\n",
       "      <td>E</td>\n",
       "      <td>SI1</td>\n",
       "      <td>61.8</td>\n",
       "      <td>60.0</td>\n",
       "      <td>1789</td>\n",
       "      <td>5.39</td>\n",
       "      <td>5.33</td>\n",
       "      <td>3.31</td>\n",
       "    </tr>\n",
       "    <tr>\n",
       "      <th>11451</th>\n",
       "      <td>11452</td>\n",
       "      <td>1.01</td>\n",
       "      <td>Premium</td>\n",
       "      <td>G</td>\n",
       "      <td>SI1</td>\n",
       "      <td>62.6</td>\n",
       "      <td>60.0</td>\n",
       "      <td>5006</td>\n",
       "      <td>6.36</td>\n",
       "      <td>6.29</td>\n",
       "      <td>3.96</td>\n",
       "    </tr>\n",
       "    <tr>\n",
       "      <th>48417</th>\n",
       "      <td>48418</td>\n",
       "      <td>0.70</td>\n",
       "      <td>Very Good</td>\n",
       "      <td>I</td>\n",
       "      <td>VS1</td>\n",
       "      <td>62.4</td>\n",
       "      <td>58.0</td>\n",
       "      <td>1971</td>\n",
       "      <td>5.62</td>\n",
       "      <td>5.67</td>\n",
       "      <td>3.52</td>\n",
       "    </tr>\n",
       "    <tr>\n",
       "      <th>7164</th>\n",
       "      <td>7165</td>\n",
       "      <td>0.90</td>\n",
       "      <td>Premium</td>\n",
       "      <td>G</td>\n",
       "      <td>VS2</td>\n",
       "      <td>60.9</td>\n",
       "      <td>58.0</td>\n",
       "      <td>4183</td>\n",
       "      <td>6.34</td>\n",
       "      <td>6.19</td>\n",
       "      <td>3.79</td>\n",
       "    </tr>\n",
       "  </tbody>\n",
       "</table>\n",
       "</div>"
      ],
      "text/plain": [
       "       Unnamed: 0  carat        cut color clarity  depth  table  price     x  \\\n",
       "34831       34832   0.30  Very Good     H    VVS1   63.3   60.0    878  4.25   \n",
       "46674       46675   0.59    Premium     E     SI1   61.8   60.0   1789  5.39   \n",
       "11451       11452   1.01    Premium     G     SI1   62.6   60.0   5006  6.36   \n",
       "48417       48418   0.70  Very Good     I     VS1   62.4   58.0   1971  5.62   \n",
       "7164         7165   0.90    Premium     G     VS2   60.9   58.0   4183  6.34   \n",
       "\n",
       "          y     z  \n",
       "34831  4.22  2.68  \n",
       "46674  5.33  3.31  \n",
       "11451  6.29  3.96  \n",
       "48417  5.67  3.52  \n",
       "7164   6.19  3.79  "
      ]
     },
     "execution_count": 109,
     "metadata": {},
     "output_type": "execute_result"
    }
   ],
   "source": [
    "data.sample(5)"
   ]
  },
  {
   "cell_type": "code",
   "execution_count": 110,
   "id": "e7586711",
   "metadata": {
    "ExecuteTime": {
     "end_time": "2023-10-24T09:16:20.733140Z",
     "start_time": "2023-10-24T09:16:20.318550Z"
    }
   },
   "outputs": [
    {
     "data": {
      "text/plain": [
       "<AxesSubplot:ylabel='Frequency'>"
      ]
     },
     "execution_count": 110,
     "metadata": {},
     "output_type": "execute_result"
    },
    {
     "data": {
      "image/png": "[encoded data removed]",
      "text/plain": [
       "<Figure size 576x396 with 1 Axes>"
      ]
     },
     "metadata": {},
     "output_type": "display_data"
    }
   ],
   "source": [
    "data.price.plot(kind=\"hist\")"
   ]
  },
  {
   "cell_type": "code",
   "execution_count": 111,
   "id": "31c85930",
   "metadata": {
    "ExecuteTime": {
     "end_time": "2023-10-24T09:16:20.765495Z",
     "start_time": "2023-10-24T09:16:20.734820Z"
    }
   },
   "outputs": [
    {
     "data": {
      "text/plain": [
       "count    53940.000000\n",
       "mean      3932.799722\n",
       "std       3989.439738\n",
       "min        326.000000\n",
       "25%        950.000000\n",
       "50%       2401.000000\n",
       "75%       5324.250000\n",
       "max      18823.000000\n",
       "Name: price, dtype: float64"
      ]
     },
     "execution_count": 111,
     "metadata": {},
     "output_type": "execute_result"
    }
   ],
   "source": [
    "data.price.describe()"
   ]
  },
  {
   "cell_type": "code",
   "execution_count": 112,
   "id": "60d7d78a",
   "metadata": {
    "ExecuteTime": {
     "end_time": "2023-10-24T09:16:20.781699Z",
     "start_time": "2023-10-24T09:16:20.768188Z"
    }
   },
   "outputs": [
    {
     "data": {
      "text/plain": [
       "101.44019579531273"
      ]
     },
     "execution_count": 112,
     "metadata": {},
     "output_type": "execute_result"
    }
   ],
   "source": [
    "dispersion=data.price.std()/data.price.mean()*100\n",
    "dispersion"
   ]
  },
  {
   "cell_type": "code",
   "execution_count": 113,
   "id": "0aa295cf",
   "metadata": {
    "ExecuteTime": {
     "end_time": "2023-10-24T09:16:20.915808Z",
     "start_time": "2023-10-24T09:16:20.906887Z"
    }
   },
   "outputs": [],
   "source": [
    "#dans le magazin, nous disposons de 53940 diamands dont les prix varient entre 326 et 18800 avec une moyenne de 3932. Cependant les prix sont dispersés (disp>50%)"
   ]
  },
  {
   "cell_type": "code",
   "execution_count": 114,
   "id": "8ab1f0f1",
   "metadata": {
    "ExecuteTime": {
     "end_time": "2023-10-24T09:16:21.280774Z",
     "start_time": "2023-10-24T09:16:21.084893Z"
    }
   },
   "outputs": [
    {
     "data": {
      "text/plain": [
       "<AxesSubplot:>"
      ]
     },
     "execution_count": 114,
     "metadata": {},
     "output_type": "execute_result"
    },
    {
     "data": {
      "image/png": "[encoded data removed]",
      "text/plain": [
       "<Figure size 576x396 with 1 Axes>"
      ]
     },
     "metadata": {},
     "output_type": "display_data"
    }
   ],
   "source": [
    "data.price.plot(kind=\"box\")"
   ]
  },
  {
   "cell_type": "code",
   "execution_count": 115,
   "id": "35b034b1",
   "metadata": {
    "ExecuteTime": {
     "end_time": "2023-10-24T09:16:21.290543Z",
     "start_time": "2023-10-24T09:16:21.284145Z"
    }
   },
   "outputs": [],
   "source": [
    "#les prix qui depassent 12500 peuvent etre considérés comme etant trop chers"
   ]
  },
  {
   "cell_type": "code",
   "execution_count": 116,
   "id": "1b34c382",
   "metadata": {
    "ExecuteTime": {
     "end_time": "2023-10-24T09:16:23.665163Z",
     "start_time": "2023-10-24T09:16:21.513914Z"
    }
   },
   "outputs": [
    {
     "data": {
      "text/plain": [
       "<AxesSubplot:ylabel='Density'>"
      ]
     },
     "execution_count": 116,
     "metadata": {},
     "output_type": "execute_result"
    },
    {
     "data": {
      "image/png": "[encoded data removed]",
      "text/plain": [
       "<Figure size 576x396 with 1 Axes>"
      ]
     },
     "metadata": {},
     "output_type": "display_data"
    }
   ],
   "source": [
    "data.price.plot(kind=\"density\")"
   ]
  },
  {
   "cell_type": "code",
   "execution_count": 117,
   "id": "eca59b71",
   "metadata": {
    "ExecuteTime": {
     "end_time": "2023-10-24T09:16:23.675141Z",
     "start_time": "2023-10-24T09:16:23.665163Z"
    }
   },
   "outputs": [],
   "source": [
    "#Visuellement les prix n'ont pas été choisis de manieure haserdeuse!!!   (les prix ne sont pas normales)"
   ]
  },
  {
   "cell_type": "markdown",
   "id": "9fa5f274",
   "metadata": {},
   "source": [
    "# Data insignifiantes"
   ]
  },
  {
   "cell_type": "code",
   "execution_count": 118,
   "id": "2b0697b7",
   "metadata": {
    "ExecuteTime": {
     "end_time": "2023-10-24T09:16:23.714299Z",
     "start_time": "2023-10-24T09:16:23.679233Z"
    }
   },
   "outputs": [
    {
     "data": {
      "text/html": [
       "<div>\n",
       "<style scoped>\n",
       "    .dataframe tbody tr th:only-of-type {\n",
       "        vertical-align: middle;\n",
       "    }\n",
       "\n",
       "    .dataframe tbody tr th {\n",
       "        vertical-align: top;\n",
       "    }\n",
       "\n",
       "    .dataframe thead th {\n",
       "        text-align: right;\n",
       "    }\n",
       "</style>\n",
       "<table border=\"1\" class=\"dataframe\">\n",
       "  <thead>\n",
       "    <tr style=\"text-align: right;\">\n",
       "      <th></th>\n",
       "      <th>Unnamed: 0</th>\n",
       "      <th>carat</th>\n",
       "      <th>cut</th>\n",
       "      <th>color</th>\n",
       "      <th>clarity</th>\n",
       "      <th>depth</th>\n",
       "      <th>table</th>\n",
       "      <th>price</th>\n",
       "      <th>x</th>\n",
       "      <th>y</th>\n",
       "      <th>z</th>\n",
       "    </tr>\n",
       "  </thead>\n",
       "  <tbody>\n",
       "    <tr>\n",
       "      <th>0</th>\n",
       "      <td>1</td>\n",
       "      <td>0.23</td>\n",
       "      <td>Ideal</td>\n",
       "      <td>E</td>\n",
       "      <td>SI2</td>\n",
       "      <td>61.5</td>\n",
       "      <td>55.0</td>\n",
       "      <td>326</td>\n",
       "      <td>3.95</td>\n",
       "      <td>3.98</td>\n",
       "      <td>2.43</td>\n",
       "    </tr>\n",
       "    <tr>\n",
       "      <th>1</th>\n",
       "      <td>2</td>\n",
       "      <td>0.21</td>\n",
       "      <td>Premium</td>\n",
       "      <td>E</td>\n",
       "      <td>SI1</td>\n",
       "      <td>59.8</td>\n",
       "      <td>61.0</td>\n",
       "      <td>326</td>\n",
       "      <td>3.89</td>\n",
       "      <td>3.84</td>\n",
       "      <td>2.31</td>\n",
       "    </tr>\n",
       "    <tr>\n",
       "      <th>2</th>\n",
       "      <td>3</td>\n",
       "      <td>0.23</td>\n",
       "      <td>Good</td>\n",
       "      <td>E</td>\n",
       "      <td>VS1</td>\n",
       "      <td>56.9</td>\n",
       "      <td>65.0</td>\n",
       "      <td>327</td>\n",
       "      <td>4.05</td>\n",
       "      <td>4.07</td>\n",
       "      <td>2.31</td>\n",
       "    </tr>\n",
       "  </tbody>\n",
       "</table>\n",
       "</div>"
      ],
      "text/plain": [
       "   Unnamed: 0  carat      cut color clarity  depth  table  price     x     y  \\\n",
       "0           1   0.23    Ideal     E     SI2   61.5   55.0    326  3.95  3.98   \n",
       "1           2   0.21  Premium     E     SI1   59.8   61.0    326  3.89  3.84   \n",
       "2           3   0.23     Good     E     VS1   56.9   65.0    327  4.05  4.07   \n",
       "\n",
       "      z  \n",
       "0  2.43  \n",
       "1  2.31  \n",
       "2  2.31  "
      ]
     },
     "execution_count": 118,
     "metadata": {},
     "output_type": "execute_result"
    }
   ],
   "source": [
    "data.head(3)"
   ]
  },
  {
   "cell_type": "code",
   "execution_count": 119,
   "id": "162ac0cc",
   "metadata": {
    "ExecuteTime": {
     "end_time": "2023-10-24T09:16:23.763188Z",
     "start_time": "2023-10-24T09:16:23.716636Z"
    }
   },
   "outputs": [
    {
     "data": {
      "text/html": [
       "<div>\n",
       "<style scoped>\n",
       "    .dataframe tbody tr th:only-of-type {\n",
       "        vertical-align: middle;\n",
       "    }\n",
       "\n",
       "    .dataframe tbody tr th {\n",
       "        vertical-align: top;\n",
       "    }\n",
       "\n",
       "    .dataframe thead th {\n",
       "        text-align: right;\n",
       "    }\n",
       "</style>\n",
       "<table border=\"1\" class=\"dataframe\">\n",
       "  <thead>\n",
       "    <tr style=\"text-align: right;\">\n",
       "      <th></th>\n",
       "      <th>carat</th>\n",
       "      <th>cut</th>\n",
       "      <th>color</th>\n",
       "      <th>clarity</th>\n",
       "      <th>depth</th>\n",
       "      <th>table</th>\n",
       "      <th>price</th>\n",
       "      <th>x</th>\n",
       "      <th>y</th>\n",
       "      <th>z</th>\n",
       "    </tr>\n",
       "  </thead>\n",
       "  <tbody>\n",
       "    <tr>\n",
       "      <th>40706</th>\n",
       "      <td>0.52</td>\n",
       "      <td>Ideal</td>\n",
       "      <td>D</td>\n",
       "      <td>SI2</td>\n",
       "      <td>61.0</td>\n",
       "      <td>56.0</td>\n",
       "      <td>1158</td>\n",
       "      <td>5.17</td>\n",
       "      <td>5.22</td>\n",
       "      <td>3.17</td>\n",
       "    </tr>\n",
       "    <tr>\n",
       "      <th>11525</th>\n",
       "      <td>1.12</td>\n",
       "      <td>Premium</td>\n",
       "      <td>I</td>\n",
       "      <td>VS2</td>\n",
       "      <td>61.9</td>\n",
       "      <td>58.0</td>\n",
       "      <td>5027</td>\n",
       "      <td>6.63</td>\n",
       "      <td>6.68</td>\n",
       "      <td>4.12</td>\n",
       "    </tr>\n",
       "    <tr>\n",
       "      <th>21827</th>\n",
       "      <td>1.52</td>\n",
       "      <td>Good</td>\n",
       "      <td>H</td>\n",
       "      <td>SI1</td>\n",
       "      <td>63.8</td>\n",
       "      <td>60.0</td>\n",
       "      <td>9898</td>\n",
       "      <td>7.24</td>\n",
       "      <td>7.30</td>\n",
       "      <td>4.64</td>\n",
       "    </tr>\n",
       "    <tr>\n",
       "      <th>24726</th>\n",
       "      <td>2.20</td>\n",
       "      <td>Premium</td>\n",
       "      <td>J</td>\n",
       "      <td>SI2</td>\n",
       "      <td>60.9</td>\n",
       "      <td>60.0</td>\n",
       "      <td>13065</td>\n",
       "      <td>8.42</td>\n",
       "      <td>8.34</td>\n",
       "      <td>5.10</td>\n",
       "    </tr>\n",
       "    <tr>\n",
       "      <th>23267</th>\n",
       "      <td>2.04</td>\n",
       "      <td>Very Good</td>\n",
       "      <td>J</td>\n",
       "      <td>SI2</td>\n",
       "      <td>61.7</td>\n",
       "      <td>57.0</td>\n",
       "      <td>11276</td>\n",
       "      <td>8.10</td>\n",
       "      <td>8.13</td>\n",
       "      <td>5.01</td>\n",
       "    </tr>\n",
       "  </tbody>\n",
       "</table>\n",
       "</div>"
      ],
      "text/plain": [
       "       carat        cut color clarity  depth  table  price     x     y     z\n",
       "40706   0.52      Ideal     D     SI2   61.0   56.0   1158  5.17  5.22  3.17\n",
       "11525   1.12    Premium     I     VS2   61.9   58.0   5027  6.63  6.68  4.12\n",
       "21827   1.52       Good     H     SI1   63.8   60.0   9898  7.24  7.30  4.64\n",
       "24726   2.20    Premium     J     SI2   60.9   60.0  13065  8.42  8.34  5.10\n",
       "23267   2.04  Very Good     J     SI2   61.7   57.0  11276  8.10  8.13  5.01"
      ]
     },
     "execution_count": 119,
     "metadata": {},
     "output_type": "execute_result"
    }
   ],
   "source": [
    "data=data.drop(columns=\"Unnamed: 0\")\n",
    "data.sample(5)"
   ]
  },
  {
   "cell_type": "code",
   "execution_count": 120,
   "id": "187d69f4",
   "metadata": {
    "ExecuteTime": {
     "end_time": "2023-10-24T09:16:23.779310Z",
     "start_time": "2023-10-24T09:16:23.765299Z"
    }
   },
   "outputs": [
    {
     "data": {
      "text/plain": [
       "(53940, 10)"
      ]
     },
     "execution_count": 120,
     "metadata": {},
     "output_type": "execute_result"
    }
   ],
   "source": [
    "data.shape"
   ]
  },
  {
   "cell_type": "code",
   "execution_count": 121,
   "id": "a529f075",
   "metadata": {
    "ExecuteTime": {
     "end_time": "2023-10-24T09:16:23.804654Z",
     "start_time": "2023-10-24T09:16:23.782222Z"
    }
   },
   "outputs": [
    {
     "data": {
      "text/plain": [
       "9.090909090909092"
      ]
     },
     "execution_count": 121,
     "metadata": {},
     "output_type": "execute_result"
    }
   ],
   "source": [
    "1/11*100   #il y a 9% de données insignifiantes\n",
    "#decision: on les supprime"
   ]
  },
  {
   "cell_type": "markdown",
   "id": "6c608daf",
   "metadata": {},
   "source": [
    "# Data dupliquées"
   ]
  },
  {
   "cell_type": "code",
   "execution_count": 122,
   "id": "4f3d40d3",
   "metadata": {
    "ExecuteTime": {
     "end_time": "2023-10-24T09:16:23.906894Z",
     "start_time": "2023-10-24T09:16:23.808095Z"
    }
   },
   "outputs": [
    {
     "data": {
      "text/plain": [
       "146"
      ]
     },
     "execution_count": 122,
     "metadata": {},
     "output_type": "execute_result"
    }
   ],
   "source": [
    "data.duplicated().sum()"
   ]
  },
  {
   "cell_type": "code",
   "execution_count": 123,
   "id": "bc9614d8",
   "metadata": {
    "ExecuteTime": {
     "end_time": "2023-10-24T09:16:23.931164Z",
     "start_time": "2023-10-24T09:16:23.906894Z"
    }
   },
   "outputs": [
    {
     "data": {
      "text/plain": [
       "(53940, 10)"
      ]
     },
     "execution_count": 123,
     "metadata": {},
     "output_type": "execute_result"
    }
   ],
   "source": [
    "data.shape"
   ]
  },
  {
   "cell_type": "code",
   "execution_count": 124,
   "id": "5b4f6151",
   "metadata": {
    "ExecuteTime": {
     "end_time": "2023-10-24T09:16:23.947445Z",
     "start_time": "2023-10-24T09:16:23.931930Z"
    }
   },
   "outputs": [
    {
     "data": {
      "text/plain": [
       "0.2706711160548758"
      ]
     },
     "execution_count": 124,
     "metadata": {},
     "output_type": "execute_result"
    }
   ],
   "source": [
    "146/53940*100   #il y a 0.3% de donnees dupliquées\n",
    "#decision: on les supprime"
   ]
  },
  {
   "cell_type": "code",
   "execution_count": 125,
   "id": "d3c71bfd",
   "metadata": {
    "ExecuteTime": {
     "end_time": "2023-10-24T09:16:24.012056Z",
     "start_time": "2023-10-24T09:16:23.948459Z"
    }
   },
   "outputs": [],
   "source": [
    "data=data.drop_duplicates()\n"
   ]
  },
  {
   "cell_type": "code",
   "execution_count": 126,
   "id": "6fc657eb",
   "metadata": {
    "ExecuteTime": {
     "end_time": "2023-10-24T09:16:24.105138Z",
     "start_time": "2023-10-24T09:16:24.015142Z"
    }
   },
   "outputs": [
    {
     "data": {
      "text/plain": [
       "0"
      ]
     },
     "execution_count": 126,
     "metadata": {},
     "output_type": "execute_result"
    }
   ],
   "source": [
    "data.duplicated().sum()"
   ]
  },
  {
   "cell_type": "markdown",
   "id": "e3bd5eb6",
   "metadata": {},
   "source": [
    "# Data Aberrantes"
   ]
  },
  {
   "cell_type": "code",
   "execution_count": 127,
   "id": "6e052ce4",
   "metadata": {
    "ExecuteTime": {
     "end_time": "2023-10-24T09:16:24.341399Z",
     "start_time": "2023-10-24T09:16:24.331461Z"
    }
   },
   "outputs": [],
   "source": [
    "# X est aberrante sssi X<Q1-1.5(Q3-Q1) ou X>Q3+1.5(Q3-Q1)"
   ]
  },
  {
   "cell_type": "code",
   "execution_count": 128,
   "id": "fc5403e2",
   "metadata": {
    "ExecuteTime": {
     "end_time": "2023-10-24T09:16:24.531246Z",
     "start_time": "2023-10-24T09:16:24.498988Z"
    }
   },
   "outputs": [],
   "source": [
    "Q1=data.quantile(0.25)  #le premier quartile\n",
    "Q3=data.quantile(0.75)   #le troisieme\n",
    "IQR=Q3-Q1     #l'ecart interquartile\n",
    "low=Q1-1.5*IQR\n",
    "high=Q3+1.5*IQR"
   ]
  },
  {
   "cell_type": "code",
   "execution_count": 129,
   "id": "e8c7bb86",
   "metadata": {
    "ExecuteTime": {
     "end_time": "2023-10-24T09:16:24.706461Z",
     "start_time": "2023-10-24T09:16:24.681943Z"
    }
   },
   "outputs": [
    {
     "data": {
      "text/plain": [
       "carat      -0.560\n",
       "depth      58.750\n",
       "table      51.500\n",
       "price   -5612.625\n",
       "x           1.965\n",
       "y           1.990\n",
       "z           1.230\n",
       "dtype: float64"
      ]
     },
     "execution_count": 129,
     "metadata": {},
     "output_type": "execute_result"
    }
   ],
   "source": [
    "low"
   ]
  },
  {
   "cell_type": "code",
   "execution_count": 130,
   "id": "fca5c5b9",
   "metadata": {
    "ExecuteTime": {
     "end_time": "2023-10-24T09:16:24.880975Z",
     "start_time": "2023-10-24T09:16:24.864320Z"
    }
   },
   "outputs": [
    {
     "data": {
      "text/plain": [
       "carat        2.000\n",
       "depth       64.750\n",
       "table       63.500\n",
       "price    11890.375\n",
       "x            9.285\n",
       "y            9.270\n",
       "z            5.710\n",
       "dtype: float64"
      ]
     },
     "execution_count": 130,
     "metadata": {},
     "output_type": "execute_result"
    }
   ],
   "source": [
    "high"
   ]
  },
  {
   "cell_type": "code",
   "execution_count": 131,
   "id": "a8df4ebd",
   "metadata": {
    "ExecuteTime": {
     "end_time": "2023-10-24T09:16:25.062470Z",
     "start_time": "2023-10-24T09:16:25.038601Z"
    }
   },
   "outputs": [],
   "source": [
    "#les prix qui depassent 11890 peuvent etre considerés comme aberants"
   ]
  },
  {
   "cell_type": "code",
   "execution_count": 132,
   "id": "2d1c18c8",
   "metadata": {
    "ExecuteTime": {
     "end_time": "2023-10-24T09:16:25.510650Z",
     "start_time": "2023-10-24T09:16:25.239095Z"
    }
   },
   "outputs": [
    {
     "data": {
      "text/plain": [
       "<AxesSubplot:ylabel='Frequency'>"
      ]
     },
     "execution_count": 132,
     "metadata": {},
     "output_type": "execute_result"
    },
    {
     "data": {
      "image/png": "[encoded data removed]",
      "text/plain": [
       "<Figure size 576x396 with 1 Axes>"
      ]
     },
     "metadata": {},
     "output_type": "display_data"
    }
   ],
   "source": [
    "data.price.plot(kind=\"hist\")"
   ]
  },
  {
   "cell_type": "code",
   "execution_count": 133,
   "id": "c62b0c49",
   "metadata": {
    "ExecuteTime": {
     "end_time": "2023-10-24T09:16:25.706006Z",
     "start_time": "2023-10-24T09:16:25.513668Z"
    }
   },
   "outputs": [
    {
     "data": {
      "text/plain": [
       "<AxesSubplot:>"
      ]
     },
     "execution_count": 133,
     "metadata": {},
     "output_type": "execute_result"
    },
    {
     "data": {
      "image/png": "[encoded data removed]",
      "text/plain": [
       "<Figure size 576x396 with 1 Axes>"
      ]
     },
     "metadata": {},
     "output_type": "display_data"
    }
   ],
   "source": [
    "data.price.plot(kind=\"box\")"
   ]
  },
  {
   "cell_type": "code",
   "execution_count": 134,
   "id": "b2398e0e",
   "metadata": {
    "ExecuteTime": {
     "end_time": "2023-10-24T09:16:25.893112Z",
     "start_time": "2023-10-24T09:16:25.706006Z"
    }
   },
   "outputs": [
    {
     "data": {
      "text/plain": [
       "<AxesSubplot:xlabel='price'>"
      ]
     },
     "execution_count": 134,
     "metadata": {},
     "output_type": "execute_result"
    },
    {
     "data": {
      "image/png": "[encoded data removed]",
      "text/plain": [
       "<Figure size 576x396 with 1 Axes>"
      ]
     },
     "metadata": {},
     "output_type": "display_data"
    }
   ],
   "source": [
    "import seaborn\n",
    "seaborn.boxplot(data=data, x=\"price\", showfliers=False, showmeans=True)"
   ]
  },
  {
   "cell_type": "code",
   "execution_count": 135,
   "id": "3b539627",
   "metadata": {
    "ExecuteTime": {
     "end_time": "2023-10-24T09:16:26.037445Z",
     "start_time": "2023-10-24T09:16:25.896668Z"
    }
   },
   "outputs": [
    {
     "name": "stderr",
     "output_type": "stream",
     "text": [
      "C:\\Users\\sambe\\AppData\\Local\\Temp\\ipykernel_18100\\1582619850.py:1: FutureWarning: Automatic reindexing on DataFrame vs Series comparisons is deprecated and will raise ValueError in a future version. Do `left, right = left.align(right, axis=1, copy=False)` before e.g. `left == right`\n",
      "  taux_aberante=((data<low)|(data>high)).sum()/data.shape[0]*100\n"
     ]
    },
    {
     "data": {
      "text/plain": [
       "carat      3.481801\n",
       "clarity    0.000000\n",
       "color      0.000000\n",
       "cut        0.000000\n",
       "depth      4.693832\n",
       "price      6.549058\n",
       "table      1.122802\n",
       "x          0.057627\n",
       "y          0.052050\n",
       "z          0.089229\n",
       "dtype: float64"
      ]
     },
     "execution_count": 135,
     "metadata": {},
     "output_type": "execute_result"
    }
   ],
   "source": [
    "taux_aberante=((data<low)|(data>high)).sum()/data.shape[0]*100\n",
    "taux_aberante"
   ]
  },
  {
   "cell_type": "code",
   "execution_count": 136,
   "id": "542b7f21",
   "metadata": {
    "ExecuteTime": {
     "end_time": "2023-10-24T09:16:26.110887Z",
     "start_time": "2023-10-24T09:16:26.086542Z"
    }
   },
   "outputs": [],
   "source": [
    "# On a plus de 5% de donnée aberrante pour les variables price, c'est une très mauvaise nouvelle"
   ]
  },
  {
   "cell_type": "markdown",
   "id": "6e2530a6",
   "metadata": {},
   "source": [
    "# Data Manquantes"
   ]
  },
  {
   "cell_type": "code",
   "execution_count": 137,
   "id": "c33d5adf",
   "metadata": {
    "ExecuteTime": {
     "end_time": "2023-10-24T09:16:26.509398Z",
     "start_time": "2023-10-24T09:16:26.462681Z"
    }
   },
   "outputs": [
    {
     "data": {
      "text/plain": [
       "carat      0\n",
       "cut        0\n",
       "color      0\n",
       "clarity    0\n",
       "depth      0\n",
       "table      0\n",
       "price      0\n",
       "x          0\n",
       "y          0\n",
       "z          0\n",
       "dtype: int64"
      ]
     },
     "execution_count": 137,
     "metadata": {},
     "output_type": "execute_result"
    }
   ],
   "source": [
    "data.isna().sum()"
   ]
  },
  {
   "cell_type": "code",
   "execution_count": 138,
   "id": "011853dc",
   "metadata": {
    "ExecuteTime": {
     "end_time": "2023-10-24T09:16:26.685818Z",
     "start_time": "2023-10-24T09:16:26.663354Z"
    }
   },
   "outputs": [],
   "source": [
    "#Aucune donnees manquantes"
   ]
  },
  {
   "cell_type": "markdown",
   "id": "5129807d",
   "metadata": {},
   "source": [
    "# Data Echelle"
   ]
  },
  {
   "cell_type": "code",
   "execution_count": 139,
   "id": "62151631",
   "metadata": {
    "ExecuteTime": {
     "end_time": "2023-10-24T09:16:28.560868Z",
     "start_time": "2023-10-24T09:16:27.046266Z"
    }
   },
   "outputs": [
    {
     "data": {
      "image/png": "[encoded data removed]",
      "text/plain": [
       "<Figure size 720x720 with 9 Axes>"
      ]
     },
     "metadata": {},
     "output_type": "display_data"
    }
   ],
   "source": [
    "data.hist(figsize=(10,10));"
   ]
  },
  {
   "cell_type": "code",
   "execution_count": 140,
   "id": "25cf81fb",
   "metadata": {
    "ExecuteTime": {
     "end_time": "2023-10-24T09:16:28.580834Z",
     "start_time": "2023-10-24T09:16:28.564426Z"
    }
   },
   "outputs": [],
   "source": [
    "#les donnees ne sont pas aux memes echelles: carat en unités, depth en dizaines, price en milliers\n",
    "#decision: on normalisera apres notre analyse"
   ]
  },
  {
   "cell_type": "markdown",
   "id": "a615d2ac",
   "metadata": {},
   "source": [
    "# Data Manipulation"
   ]
  },
  {
   "cell_type": "code",
   "execution_count": 141,
   "id": "206e04db",
   "metadata": {
    "ExecuteTime": {
     "end_time": "2023-10-24T09:16:28.621162Z",
     "start_time": "2023-10-24T09:16:28.589128Z"
    }
   },
   "outputs": [
    {
     "data": {
      "text/html": [
       "<div>\n",
       "<style scoped>\n",
       "    .dataframe tbody tr th:only-of-type {\n",
       "        vertical-align: middle;\n",
       "    }\n",
       "\n",
       "    .dataframe tbody tr th {\n",
       "        vertical-align: top;\n",
       "    }\n",
       "\n",
       "    .dataframe thead th {\n",
       "        text-align: right;\n",
       "    }\n",
       "</style>\n",
       "<table border=\"1\" class=\"dataframe\">\n",
       "  <thead>\n",
       "    <tr style=\"text-align: right;\">\n",
       "      <th></th>\n",
       "      <th>carat</th>\n",
       "      <th>cut</th>\n",
       "      <th>color</th>\n",
       "      <th>clarity</th>\n",
       "      <th>depth</th>\n",
       "      <th>table</th>\n",
       "      <th>price</th>\n",
       "      <th>x</th>\n",
       "      <th>y</th>\n",
       "      <th>z</th>\n",
       "    </tr>\n",
       "  </thead>\n",
       "  <tbody>\n",
       "    <tr>\n",
       "      <th>48408</th>\n",
       "      <td>0.72</td>\n",
       "      <td>Very Good</td>\n",
       "      <td>H</td>\n",
       "      <td>SI2</td>\n",
       "      <td>62.6</td>\n",
       "      <td>53.0</td>\n",
       "      <td>1970</td>\n",
       "      <td>5.75</td>\n",
       "      <td>5.78</td>\n",
       "      <td>3.61</td>\n",
       "    </tr>\n",
       "    <tr>\n",
       "      <th>51290</th>\n",
       "      <td>0.57</td>\n",
       "      <td>Ideal</td>\n",
       "      <td>F</td>\n",
       "      <td>VVS2</td>\n",
       "      <td>61.5</td>\n",
       "      <td>57.0</td>\n",
       "      <td>2360</td>\n",
       "      <td>5.36</td>\n",
       "      <td>5.31</td>\n",
       "      <td>3.28</td>\n",
       "    </tr>\n",
       "    <tr>\n",
       "      <th>1669</th>\n",
       "      <td>0.75</td>\n",
       "      <td>Premium</td>\n",
       "      <td>D</td>\n",
       "      <td>SI1</td>\n",
       "      <td>59.2</td>\n",
       "      <td>58.0</td>\n",
       "      <td>3024</td>\n",
       "      <td>5.96</td>\n",
       "      <td>5.93</td>\n",
       "      <td>3.52</td>\n",
       "    </tr>\n",
       "    <tr>\n",
       "      <th>10592</th>\n",
       "      <td>0.91</td>\n",
       "      <td>Very Good</td>\n",
       "      <td>E</td>\n",
       "      <td>VS2</td>\n",
       "      <td>62.8</td>\n",
       "      <td>59.0</td>\n",
       "      <td>4823</td>\n",
       "      <td>6.15</td>\n",
       "      <td>6.17</td>\n",
       "      <td>3.87</td>\n",
       "    </tr>\n",
       "    <tr>\n",
       "      <th>34384</th>\n",
       "      <td>0.41</td>\n",
       "      <td>Ideal</td>\n",
       "      <td>F</td>\n",
       "      <td>VS2</td>\n",
       "      <td>62.7</td>\n",
       "      <td>56.0</td>\n",
       "      <td>863</td>\n",
       "      <td>4.72</td>\n",
       "      <td>4.78</td>\n",
       "      <td>2.98</td>\n",
       "    </tr>\n",
       "  </tbody>\n",
       "</table>\n",
       "</div>"
      ],
      "text/plain": [
       "       carat        cut color clarity  depth  table  price     x     y     z\n",
       "48408   0.72  Very Good     H     SI2   62.6   53.0   1970  5.75  5.78  3.61\n",
       "51290   0.57      Ideal     F    VVS2   61.5   57.0   2360  5.36  5.31  3.28\n",
       "1669    0.75    Premium     D     SI1   59.2   58.0   3024  5.96  5.93  3.52\n",
       "10592   0.91  Very Good     E     VS2   62.8   59.0   4823  6.15  6.17  3.87\n",
       "34384   0.41      Ideal     F     VS2   62.7   56.0    863  4.72  4.78  2.98"
      ]
     },
     "execution_count": 141,
     "metadata": {},
     "output_type": "execute_result"
    }
   ],
   "source": [
    "data.sample(5)"
   ]
  },
  {
   "cell_type": "code",
   "execution_count": 142,
   "id": "edc89582",
   "metadata": {
    "ExecuteTime": {
     "end_time": "2023-10-24T09:16:28.634262Z",
     "start_time": "2023-10-24T09:16:28.621162Z"
    }
   },
   "outputs": [],
   "source": [
    "#x y et z representent les \"corrdonnées\" des diamants qui nous permettent de trouver le volume"
   ]
  },
  {
   "cell_type": "code",
   "execution_count": 143,
   "id": "beac336b",
   "metadata": {
    "ExecuteTime": {
     "end_time": "2023-10-24T09:16:28.685232Z",
     "start_time": "2023-10-24T09:16:28.638268Z"
    }
   },
   "outputs": [
    {
     "data": {
      "text/html": [
       "<div>\n",
       "<style scoped>\n",
       "    .dataframe tbody tr th:only-of-type {\n",
       "        vertical-align: middle;\n",
       "    }\n",
       "\n",
       "    .dataframe tbody tr th {\n",
       "        vertical-align: top;\n",
       "    }\n",
       "\n",
       "    .dataframe thead th {\n",
       "        text-align: right;\n",
       "    }\n",
       "</style>\n",
       "<table border=\"1\" class=\"dataframe\">\n",
       "  <thead>\n",
       "    <tr style=\"text-align: right;\">\n",
       "      <th></th>\n",
       "      <th>carat</th>\n",
       "      <th>cut</th>\n",
       "      <th>color</th>\n",
       "      <th>clarity</th>\n",
       "      <th>depth</th>\n",
       "      <th>table</th>\n",
       "      <th>price</th>\n",
       "      <th>x</th>\n",
       "      <th>y</th>\n",
       "      <th>z</th>\n",
       "      <th>volume</th>\n",
       "    </tr>\n",
       "  </thead>\n",
       "  <tbody>\n",
       "    <tr>\n",
       "      <th>16491</th>\n",
       "      <td>1.04</td>\n",
       "      <td>Ideal</td>\n",
       "      <td>G</td>\n",
       "      <td>VS2</td>\n",
       "      <td>62.5</td>\n",
       "      <td>57.0</td>\n",
       "      <td>6589</td>\n",
       "      <td>6.46</td>\n",
       "      <td>6.49</td>\n",
       "      <td>4.05</td>\n",
       "      <td>169.797870</td>\n",
       "    </tr>\n",
       "    <tr>\n",
       "      <th>40312</th>\n",
       "      <td>0.40</td>\n",
       "      <td>Premium</td>\n",
       "      <td>E</td>\n",
       "      <td>VS1</td>\n",
       "      <td>62.4</td>\n",
       "      <td>54.0</td>\n",
       "      <td>1125</td>\n",
       "      <td>4.75</td>\n",
       "      <td>4.71</td>\n",
       "      <td>2.95</td>\n",
       "      <td>65.998875</td>\n",
       "    </tr>\n",
       "    <tr>\n",
       "      <th>35686</th>\n",
       "      <td>0.30</td>\n",
       "      <td>Premium</td>\n",
       "      <td>D</td>\n",
       "      <td>VS2</td>\n",
       "      <td>62.6</td>\n",
       "      <td>61.0</td>\n",
       "      <td>911</td>\n",
       "      <td>4.25</td>\n",
       "      <td>4.22</td>\n",
       "      <td>2.65</td>\n",
       "      <td>47.527750</td>\n",
       "    </tr>\n",
       "    <tr>\n",
       "      <th>12131</th>\n",
       "      <td>1.08</td>\n",
       "      <td>Fair</td>\n",
       "      <td>H</td>\n",
       "      <td>VVS2</td>\n",
       "      <td>55.9</td>\n",
       "      <td>63.0</td>\n",
       "      <td>5171</td>\n",
       "      <td>6.90</td>\n",
       "      <td>6.80</td>\n",
       "      <td>3.83</td>\n",
       "      <td>179.703600</td>\n",
       "    </tr>\n",
       "    <tr>\n",
       "      <th>36935</th>\n",
       "      <td>0.23</td>\n",
       "      <td>Very Good</td>\n",
       "      <td>E</td>\n",
       "      <td>VVS1</td>\n",
       "      <td>61.2</td>\n",
       "      <td>57.0</td>\n",
       "      <td>478</td>\n",
       "      <td>3.96</td>\n",
       "      <td>3.98</td>\n",
       "      <td>2.43</td>\n",
       "      <td>38.298744</td>\n",
       "    </tr>\n",
       "  </tbody>\n",
       "</table>\n",
       "</div>"
      ],
      "text/plain": [
       "       carat        cut color clarity  depth  table  price     x     y     z  \\\n",
       "16491   1.04      Ideal     G     VS2   62.5   57.0   6589  6.46  6.49  4.05   \n",
       "40312   0.40    Premium     E     VS1   62.4   54.0   1125  4.75  4.71  2.95   \n",
       "35686   0.30    Premium     D     VS2   62.6   61.0    911  4.25  4.22  2.65   \n",
       "12131   1.08       Fair     H    VVS2   55.9   63.0   5171  6.90  6.80  3.83   \n",
       "36935   0.23  Very Good     E    VVS1   61.2   57.0    478  3.96  3.98  2.43   \n",
       "\n",
       "           volume  \n",
       "16491  169.797870  \n",
       "40312   65.998875  \n",
       "35686   47.527750  \n",
       "12131  179.703600  \n",
       "36935   38.298744  "
      ]
     },
     "execution_count": 143,
     "metadata": {},
     "output_type": "execute_result"
    }
   ],
   "source": [
    "data[\"volume\"]=data[\"x\"]*data[\"y\"]*data[\"z\"]\n",
    "data.sample(5)"
   ]
  },
  {
   "cell_type": "code",
   "execution_count": 144,
   "id": "6c54b05c",
   "metadata": {
    "ExecuteTime": {
     "end_time": "2023-10-24T09:16:28.725760Z",
     "start_time": "2023-10-24T09:16:28.685232Z"
    }
   },
   "outputs": [
    {
     "data": {
      "text/html": [
       "<div>\n",
       "<style scoped>\n",
       "    .dataframe tbody tr th:only-of-type {\n",
       "        vertical-align: middle;\n",
       "    }\n",
       "\n",
       "    .dataframe tbody tr th {\n",
       "        vertical-align: top;\n",
       "    }\n",
       "\n",
       "    .dataframe thead th {\n",
       "        text-align: right;\n",
       "    }\n",
       "</style>\n",
       "<table border=\"1\" class=\"dataframe\">\n",
       "  <thead>\n",
       "    <tr style=\"text-align: right;\">\n",
       "      <th></th>\n",
       "      <th>carat</th>\n",
       "      <th>cut</th>\n",
       "      <th>color</th>\n",
       "      <th>clarity</th>\n",
       "      <th>depth</th>\n",
       "      <th>table</th>\n",
       "      <th>price</th>\n",
       "      <th>volume</th>\n",
       "    </tr>\n",
       "  </thead>\n",
       "  <tbody>\n",
       "    <tr>\n",
       "      <th>28224</th>\n",
       "      <td>0.33</td>\n",
       "      <td>Ideal</td>\n",
       "      <td>F</td>\n",
       "      <td>VS2</td>\n",
       "      <td>62.1</td>\n",
       "      <td>55.0</td>\n",
       "      <td>666</td>\n",
       "      <td>55.099455</td>\n",
       "    </tr>\n",
       "    <tr>\n",
       "      <th>6435</th>\n",
       "      <td>0.91</td>\n",
       "      <td>Premium</td>\n",
       "      <td>G</td>\n",
       "      <td>SI1</td>\n",
       "      <td>62.6</td>\n",
       "      <td>58.0</td>\n",
       "      <td>4045</td>\n",
       "      <td>145.852630</td>\n",
       "    </tr>\n",
       "    <tr>\n",
       "      <th>26513</th>\n",
       "      <td>2.05</td>\n",
       "      <td>Good</td>\n",
       "      <td>G</td>\n",
       "      <td>SI2</td>\n",
       "      <td>63.7</td>\n",
       "      <td>61.0</td>\n",
       "      <td>16148</td>\n",
       "      <td>327.214470</td>\n",
       "    </tr>\n",
       "    <tr>\n",
       "      <th>22038</th>\n",
       "      <td>0.31</td>\n",
       "      <td>Ideal</td>\n",
       "      <td>I</td>\n",
       "      <td>VS1</td>\n",
       "      <td>61.9</td>\n",
       "      <td>54.0</td>\n",
       "      <td>628</td>\n",
       "      <td>51.324840</td>\n",
       "    </tr>\n",
       "    <tr>\n",
       "      <th>47260</th>\n",
       "      <td>0.77</td>\n",
       "      <td>Very Good</td>\n",
       "      <td>J</td>\n",
       "      <td>VS2</td>\n",
       "      <td>62.1</td>\n",
       "      <td>62.0</td>\n",
       "      <td>1843</td>\n",
       "      <td>124.013142</td>\n",
       "    </tr>\n",
       "  </tbody>\n",
       "</table>\n",
       "</div>"
      ],
      "text/plain": [
       "       carat        cut color clarity  depth  table  price      volume\n",
       "28224   0.33      Ideal     F     VS2   62.1   55.0    666   55.099455\n",
       "6435    0.91    Premium     G     SI1   62.6   58.0   4045  145.852630\n",
       "26513   2.05       Good     G     SI2   63.7   61.0  16148  327.214470\n",
       "22038   0.31      Ideal     I     VS1   61.9   54.0    628   51.324840\n",
       "47260   0.77  Very Good     J     VS2   62.1   62.0   1843  124.013142"
      ]
     },
     "execution_count": 144,
     "metadata": {},
     "output_type": "execute_result"
    }
   ],
   "source": [
    "data=data.drop(columns=[\"x\",\"y\",\"z\"])\n",
    "data.sample(5)"
   ]
  },
  {
   "cell_type": "markdown",
   "id": "98d92cf0",
   "metadata": {},
   "source": [
    "# Data Analyse"
   ]
  },
  {
   "cell_type": "code",
   "execution_count": 145,
   "id": "c943605c",
   "metadata": {
    "ExecuteTime": {
     "end_time": "2023-10-24T09:16:28.737453Z",
     "start_time": "2023-10-24T09:16:28.727339Z"
    }
   },
   "outputs": [],
   "source": [
    "#On va analyser la variable à predire"
   ]
  },
  {
   "cell_type": "code",
   "execution_count": 146,
   "id": "21622e3d",
   "metadata": {
    "ExecuteTime": {
     "end_time": "2023-10-24T09:16:28.891730Z",
     "start_time": "2023-10-24T09:16:28.843675Z"
    }
   },
   "outputs": [
    {
     "data": {
      "text/html": [
       "<div>\n",
       "<style scoped>\n",
       "    .dataframe tbody tr th:only-of-type {\n",
       "        vertical-align: middle;\n",
       "    }\n",
       "\n",
       "    .dataframe tbody tr th {\n",
       "        vertical-align: top;\n",
       "    }\n",
       "\n",
       "    .dataframe thead th {\n",
       "        text-align: right;\n",
       "    }\n",
       "</style>\n",
       "<table border=\"1\" class=\"dataframe\">\n",
       "  <thead>\n",
       "    <tr style=\"text-align: right;\">\n",
       "      <th></th>\n",
       "      <th>carat</th>\n",
       "      <th>depth</th>\n",
       "      <th>table</th>\n",
       "      <th>price</th>\n",
       "      <th>volume</th>\n",
       "    </tr>\n",
       "  </thead>\n",
       "  <tbody>\n",
       "    <tr>\n",
       "      <th>count</th>\n",
       "      <td>53794.00000</td>\n",
       "      <td>53794.000000</td>\n",
       "      <td>53794.000000</td>\n",
       "      <td>53794.000000</td>\n",
       "      <td>53794.000000</td>\n",
       "    </tr>\n",
       "    <tr>\n",
       "      <th>mean</th>\n",
       "      <td>0.79778</td>\n",
       "      <td>61.748080</td>\n",
       "      <td>57.458109</td>\n",
       "      <td>3933.065082</td>\n",
       "      <td>129.826975</td>\n",
       "    </tr>\n",
       "    <tr>\n",
       "      <th>std</th>\n",
       "      <td>0.47339</td>\n",
       "      <td>1.429909</td>\n",
       "      <td>2.233679</td>\n",
       "      <td>3988.114460</td>\n",
       "      <td>78.160819</td>\n",
       "    </tr>\n",
       "    <tr>\n",
       "      <th>min</th>\n",
       "      <td>0.20000</td>\n",
       "      <td>43.000000</td>\n",
       "      <td>43.000000</td>\n",
       "      <td>326.000000</td>\n",
       "      <td>0.000000</td>\n",
       "    </tr>\n",
       "    <tr>\n",
       "      <th>25%</th>\n",
       "      <td>0.40000</td>\n",
       "      <td>61.000000</td>\n",
       "      <td>56.000000</td>\n",
       "      <td>951.000000</td>\n",
       "      <td>65.190168</td>\n",
       "    </tr>\n",
       "    <tr>\n",
       "      <th>50%</th>\n",
       "      <td>0.70000</td>\n",
       "      <td>61.800000</td>\n",
       "      <td>57.000000</td>\n",
       "      <td>2401.000000</td>\n",
       "      <td>114.840180</td>\n",
       "    </tr>\n",
       "    <tr>\n",
       "      <th>75%</th>\n",
       "      <td>1.04000</td>\n",
       "      <td>62.500000</td>\n",
       "      <td>59.000000</td>\n",
       "      <td>5326.750000</td>\n",
       "      <td>170.823600</td>\n",
       "    </tr>\n",
       "    <tr>\n",
       "      <th>max</th>\n",
       "      <td>5.01000</td>\n",
       "      <td>79.000000</td>\n",
       "      <td>95.000000</td>\n",
       "      <td>18823.000000</td>\n",
       "      <td>3840.598060</td>\n",
       "    </tr>\n",
       "  </tbody>\n",
       "</table>\n",
       "</div>"
      ],
      "text/plain": [
       "             carat         depth         table         price        volume\n",
       "count  53794.00000  53794.000000  53794.000000  53794.000000  53794.000000\n",
       "mean       0.79778     61.748080     57.458109   3933.065082    129.826975\n",
       "std        0.47339      1.429909      2.233679   3988.114460     78.160819\n",
       "min        0.20000     43.000000     43.000000    326.000000      0.000000\n",
       "25%        0.40000     61.000000     56.000000    951.000000     65.190168\n",
       "50%        0.70000     61.800000     57.000000   2401.000000    114.840180\n",
       "75%        1.04000     62.500000     59.000000   5326.750000    170.823600\n",
       "max        5.01000     79.000000     95.000000  18823.000000   3840.598060"
      ]
     },
     "execution_count": 146,
     "metadata": {},
     "output_type": "execute_result"
    }
   ],
   "source": [
    "data.describe()"
   ]
  },
  {
   "cell_type": "code",
   "execution_count": 147,
   "id": "ae783940",
   "metadata": {
    "ExecuteTime": {
     "end_time": "2023-10-24T09:16:29.092655Z",
     "start_time": "2023-10-24T09:16:29.052097Z"
    }
   },
   "outputs": [
    {
     "data": {
      "text/plain": [
       "count    53794.000000\n",
       "mean      3933.065082\n",
       "std       3988.114460\n",
       "min        326.000000\n",
       "25%        951.000000\n",
       "50%       2401.000000\n",
       "75%       5326.750000\n",
       "max      18823.000000\n",
       "Name: price, dtype: float64"
      ]
     },
     "execution_count": 147,
     "metadata": {},
     "output_type": "execute_result"
    }
   ],
   "source": [
    "data.describe().price"
   ]
  },
  {
   "cell_type": "code",
   "execution_count": 148,
   "id": "13dacfaf",
   "metadata": {
    "ExecuteTime": {
     "end_time": "2023-10-24T09:16:29.520466Z",
     "start_time": "2023-10-24T09:16:29.278282Z"
    }
   },
   "outputs": [
    {
     "data": {
      "text/plain": [
       "<AxesSubplot:>"
      ]
     },
     "execution_count": 148,
     "metadata": {},
     "output_type": "execute_result"
    },
    {
     "data": {
      "image/png": "[encoded data removed]",
      "text/plain": [
       "<Figure size 576x396 with 1 Axes>"
      ]
     },
     "metadata": {},
     "output_type": "display_data"
    }
   ],
   "source": [
    "data.price.plot(kind=\"box\")"
   ]
  },
  {
   "cell_type": "code",
   "execution_count": 149,
   "id": "bdfb4adb",
   "metadata": {
    "ExecuteTime": {
     "end_time": "2023-10-24T09:16:29.536384Z",
     "start_time": "2023-10-24T09:16:29.526676Z"
    }
   },
   "outputs": [],
   "source": [
    "#Dans notre magazin, nous disposons de 53794 diamants. les prix varient entre 326 et 18823 avec une moyenne de 3933.\n",
    "#50% des diamants coutent moins que 2401, 25% coutent moins que 951 et 25% depassent 5326.\n",
    "#A partir de 11890, les prix peuvent etre considérés comme aberants (trop chers) et ils represent plus de 6%."
   ]
  },
  {
   "cell_type": "code",
   "execution_count": 150,
   "id": "e2d367a2",
   "metadata": {
    "ExecuteTime": {
     "end_time": "2023-10-24T09:16:29.716239Z",
     "start_time": "2023-10-24T09:16:29.693080Z"
    }
   },
   "outputs": [],
   "source": [
    "#est ce que les prix dans le magazin ont ete generés aleatoirement (par hasard)?"
   ]
  },
  {
   "cell_type": "code",
   "execution_count": 151,
   "id": "7fb8db64",
   "metadata": {
    "ExecuteTime": {
     "end_time": "2023-10-24T09:16:32.140922Z",
     "start_time": "2023-10-24T09:16:29.867220Z"
    }
   },
   "outputs": [
    {
     "data": {
      "text/plain": [
       "<AxesSubplot:ylabel='Density'>"
      ]
     },
     "execution_count": 151,
     "metadata": {},
     "output_type": "execute_result"
    },
    {
     "data": {
      "image/png": "[encoded data removed]",
      "text/plain": [
       "<Figure size 576x396 with 1 Axes>"
      ]
     },
     "metadata": {},
     "output_type": "display_data"
    }
   ],
   "source": [
    "data.price.plot(kind=\"density\")"
   ]
  },
  {
   "cell_type": "code",
   "execution_count": 152,
   "id": "ed1f718d",
   "metadata": {
    "ExecuteTime": {
     "end_time": "2023-10-24T09:16:32.228305Z",
     "start_time": "2023-10-24T09:16:32.140922Z"
    }
   },
   "outputs": [
    {
     "name": "stderr",
     "output_type": "stream",
     "text": [
      "C:\\Users\\sambe\\AppData\\Local\\Temp\\ipykernel_18100\\3881249153.py:2: FutureWarning: Dropping of nuisance columns in DataFrame reductions (with 'numeric_only=None') is deprecated; in a future version this will raise TypeError.  Select only valid columns before calling the reduction.\n",
      "  data.skew()   #skew>0 la courbe est decallée vers la droite par rapport à la loi normale\n"
     ]
    },
    {
     "data": {
      "text/plain": [
       "carat     1.113651\n",
       "depth    -0.114250\n",
       "table     0.792227\n",
       "price     1.618240\n",
       "volume    3.048210\n",
       "dtype: float64"
      ]
     },
     "execution_count": 152,
     "metadata": {},
     "output_type": "execute_result"
    }
   ],
   "source": [
    "#calculons le coefficient d assymetrie (ref loi normale symetrie skew=0)\n",
    "data.skew()   #skew>0 la courbe est decallée vers la droite par rapport à la loi normale"
   ]
  },
  {
   "cell_type": "code",
   "execution_count": 153,
   "id": "5ef4e43f",
   "metadata": {
    "ExecuteTime": {
     "end_time": "2023-10-24T09:16:32.337481Z",
     "start_time": "2023-10-24T09:16:32.229917Z"
    }
   },
   "outputs": [
    {
     "name": "stderr",
     "output_type": "stream",
     "text": [
      "C:\\Users\\sambe\\AppData\\Local\\Temp\\ipykernel_18100\\2566119085.py:2: FutureWarning: Dropping of nuisance columns in DataFrame reductions (with 'numeric_only=None') is deprecated; in a future version this will raise TypeError.  Select only valid columns before calling the reduction.\n",
      "  data.kurtosis()   #kurtosis>0 la courbe est pointue par rapport à la loi normale\n"
     ]
    },
    {
     "data": {
      "text/plain": [
       "carat      1.247158\n",
       "depth      5.412989\n",
       "table      2.775360\n",
       "price      2.178453\n",
       "volume    95.522483\n",
       "dtype: float64"
      ]
     },
     "execution_count": 153,
     "metadata": {},
     "output_type": "execute_result"
    }
   ],
   "source": [
    "#calculons le coefficient d applatissement (ref loi normale kurtosis=0)\n",
    "data.kurtosis()   #kurtosis>0 la courbe est pointue par rapport à la loi normale"
   ]
  },
  {
   "cell_type": "code",
   "execution_count": 154,
   "id": "5e6e84fe",
   "metadata": {
    "ExecuteTime": {
     "end_time": "2023-10-24T09:16:32.351883Z",
     "start_time": "2023-10-24T09:16:32.340647Z"
    }
   },
   "outputs": [],
   "source": [
    "#il semblerait que les prix ne suivent pas la loi normale"
   ]
  },
  {
   "cell_type": "code",
   "execution_count": 155,
   "id": "a7818956",
   "metadata": {
    "ExecuteTime": {
     "end_time": "2023-10-24T09:16:32.369712Z",
     "start_time": "2023-10-24T09:16:32.353826Z"
    }
   },
   "outputs": [],
   "source": [
    "#conclusion: \n",
    "#Dans notre magazin, nous disposons de 53794 diamants. les prix varient entre 326 et 18823 avec une moyenne de 3933.\n",
    "#50% des diamants coutent moins que 2401, 25% coutent moins que 951 et 25% depassent 5326.\n",
    "#A partir de 11890, les prix peuvent etre considérés comme aberants (trop chers) et ils represent plus de 6%.\n",
    "#les prix ne suivent pas la loi normale et donc il y a forcement des facteurs explicatives\n"
   ]
  },
  {
   "cell_type": "code",
   "execution_count": 156,
   "id": "9c8994b6",
   "metadata": {
    "ExecuteTime": {
     "end_time": "2023-10-24T09:16:32.401852Z",
     "start_time": "2023-10-24T09:16:32.378008Z"
    }
   },
   "outputs": [],
   "source": [
    "#maintenent on va essayer de voir les variables explicatives"
   ]
  },
  {
   "cell_type": "code",
   "execution_count": 157,
   "id": "2e48648a",
   "metadata": {
    "ExecuteTime": {
     "end_time": "2023-10-24T09:16:32.434490Z",
     "start_time": "2023-10-24T09:16:32.401852Z"
    }
   },
   "outputs": [
    {
     "data": {
      "text/plain": [
       "carat     0.921548\n",
       "depth    -0.011048\n",
       "table     0.126566\n",
       "price     1.000000\n",
       "volume    0.902231\n",
       "Name: price, dtype: float64"
      ]
     },
     "execution_count": 157,
     "metadata": {},
     "output_type": "execute_result"
    }
   ],
   "source": [
    "data.corr().price"
   ]
  },
  {
   "cell_type": "code",
   "execution_count": 158,
   "id": "9767c442",
   "metadata": {
    "ExecuteTime": {
     "end_time": "2023-10-24T09:16:32.450274Z",
     "start_time": "2023-10-24T09:16:32.434490Z"
    }
   },
   "outputs": [],
   "source": [
    "#les carat, volume influent fortement sur le prix (moins que la profondeur et le table)"
   ]
  },
  {
   "cell_type": "code",
   "execution_count": 159,
   "id": "44839bc4",
   "metadata": {
    "ExecuteTime": {
     "end_time": "2023-10-24T09:16:32.514590Z",
     "start_time": "2023-10-24T09:16:32.458432Z"
    }
   },
   "outputs": [
    {
     "data": {
      "text/html": [
       "<div>\n",
       "<style scoped>\n",
       "    .dataframe tbody tr th:only-of-type {\n",
       "        vertical-align: middle;\n",
       "    }\n",
       "\n",
       "    .dataframe tbody tr th {\n",
       "        vertical-align: top;\n",
       "    }\n",
       "\n",
       "    .dataframe thead th {\n",
       "        text-align: right;\n",
       "    }\n",
       "</style>\n",
       "<table border=\"1\" class=\"dataframe\">\n",
       "  <thead>\n",
       "    <tr style=\"text-align: right;\">\n",
       "      <th></th>\n",
       "      <th>carat</th>\n",
       "      <th>depth</th>\n",
       "      <th>table</th>\n",
       "      <th>price</th>\n",
       "      <th>volume</th>\n",
       "    </tr>\n",
       "  </thead>\n",
       "  <tbody>\n",
       "    <tr>\n",
       "      <th>carat</th>\n",
       "      <td>1.000000</td>\n",
       "      <td>0.027861</td>\n",
       "      <td>0.181091</td>\n",
       "      <td>0.921548</td>\n",
       "      <td>0.976227</td>\n",
       "    </tr>\n",
       "    <tr>\n",
       "      <th>depth</th>\n",
       "      <td>0.027861</td>\n",
       "      <td>1.000000</td>\n",
       "      <td>-0.297669</td>\n",
       "      <td>-0.011048</td>\n",
       "      <td>0.008704</td>\n",
       "    </tr>\n",
       "    <tr>\n",
       "      <th>table</th>\n",
       "      <td>0.181091</td>\n",
       "      <td>-0.297669</td>\n",
       "      <td>1.000000</td>\n",
       "      <td>0.126566</td>\n",
       "      <td>0.166813</td>\n",
       "    </tr>\n",
       "    <tr>\n",
       "      <th>price</th>\n",
       "      <td>0.921548</td>\n",
       "      <td>-0.011048</td>\n",
       "      <td>0.126566</td>\n",
       "      <td>1.000000</td>\n",
       "      <td>0.902231</td>\n",
       "    </tr>\n",
       "    <tr>\n",
       "      <th>volume</th>\n",
       "      <td>0.976227</td>\n",
       "      <td>0.008704</td>\n",
       "      <td>0.166813</td>\n",
       "      <td>0.902231</td>\n",
       "      <td>1.000000</td>\n",
       "    </tr>\n",
       "  </tbody>\n",
       "</table>\n",
       "</div>"
      ],
      "text/plain": [
       "           carat     depth     table     price    volume\n",
       "carat   1.000000  0.027861  0.181091  0.921548  0.976227\n",
       "depth   0.027861  1.000000 -0.297669 -0.011048  0.008704\n",
       "table   0.181091 -0.297669  1.000000  0.126566  0.166813\n",
       "price   0.921548 -0.011048  0.126566  1.000000  0.902231\n",
       "volume  0.976227  0.008704  0.166813  0.902231  1.000000"
      ]
     },
     "execution_count": 159,
     "metadata": {},
     "output_type": "execute_result"
    }
   ],
   "source": [
    "data.corr()"
   ]
  },
  {
   "cell_type": "code",
   "execution_count": 160,
   "id": "21d30797",
   "metadata": {
    "ExecuteTime": {
     "end_time": "2023-10-24T09:16:33.805981Z",
     "start_time": "2023-10-24T09:16:32.514590Z"
    }
   },
   "outputs": [
    {
     "data": {
      "image/png": "[encoded data removed]",
      "text/plain": [
       "<Figure size 1152x576 with 2 Axes>"
      ]
     },
     "metadata": {},
     "output_type": "display_data"
    }
   ],
   "source": [
    "#pip install dython\n",
    "import matplotlib.pyplot as plt # Plotting\n",
    "from dython.nominal import associations\n",
    "fig, ax = plt.subplots(figsize=(16, 8))\n",
    "r = associations(data.sample(100), ax = ax, cmap = \"Blues\")"
   ]
  },
  {
   "cell_type": "code",
   "execution_count": 161,
   "id": "4f65025e",
   "metadata": {
    "ExecuteTime": {
     "end_time": "2023-10-24T09:16:33.837842Z",
     "start_time": "2023-10-24T09:16:33.807517Z"
    }
   },
   "outputs": [
    {
     "data": {
      "text/plain": [
       "carat     0.921548\n",
       "depth    -0.011048\n",
       "table     0.126566\n",
       "price     1.000000\n",
       "volume    0.902231\n",
       "Name: price, dtype: float64"
      ]
     },
     "execution_count": 161,
     "metadata": {},
     "output_type": "execute_result"
    }
   ],
   "source": [
    "data.corr().price"
   ]
  },
  {
   "cell_type": "code",
   "execution_count": 162,
   "id": "0b6c42ae",
   "metadata": {
    "ExecuteTime": {
     "end_time": "2023-10-24T09:16:33.859355Z",
     "start_time": "2023-10-24T09:16:33.843353Z"
    }
   },
   "outputs": [],
   "source": [
    "#price et depth sont correlés à -1.1%  "
   ]
  },
  {
   "cell_type": "code",
   "execution_count": 163,
   "id": "9f9a8181",
   "metadata": {
    "ExecuteTime": {
     "end_time": "2023-10-24T09:16:33.875658Z",
     "start_time": "2023-10-24T09:16:33.859355Z"
    }
   },
   "outputs": [],
   "source": [
    "#pour etre sùr de la significativité de cette correlation, il faut faire un test de PEARSON."
   ]
  },
  {
   "cell_type": "code",
   "execution_count": 164,
   "id": "dac6b59d",
   "metadata": {
    "ExecuteTime": {
     "end_time": "2023-10-24T09:16:33.923937Z",
     "start_time": "2023-10-24T09:16:33.875658Z"
    }
   },
   "outputs": [
    {
     "data": {
      "text/plain": [
       "(-0.011047521867868452, 0.010397267269465686)"
      ]
     },
     "execution_count": 164,
     "metadata": {},
     "output_type": "execute_result"
    }
   ],
   "source": [
    "#h0: les variables sont INDEPENDANTES\n",
    "scipy.stats.pearsonr(data.price,data.depth)"
   ]
  },
  {
   "cell_type": "code",
   "execution_count": 165,
   "id": "c7b58ce4",
   "metadata": {
    "ExecuteTime": {
     "end_time": "2023-10-24T09:16:33.931959Z",
     "start_time": "2023-10-24T09:16:33.923937Z"
    }
   },
   "outputs": [],
   "source": [
    "#ici pvalue=0.010397267269465686<5% dont on rejete l'idee d'INDEPENDANCE"
   ]
  },
  {
   "cell_type": "code",
   "execution_count": 166,
   "id": "3b732030",
   "metadata": {
    "ExecuteTime": {
     "end_time": "2023-10-24T09:16:33.956138Z",
     "start_time": "2023-10-24T09:16:33.939158Z"
    }
   },
   "outputs": [
    {
     "data": {
      "text/plain": [
       "(0.1265660874434255, 6.378106847256486e-191)"
      ]
     },
     "execution_count": 166,
     "metadata": {},
     "output_type": "execute_result"
    }
   ],
   "source": [
    "scipy.stats.pearsonr(data.price,data.table)"
   ]
  },
  {
   "cell_type": "code",
   "execution_count": 167,
   "id": "6afc5959",
   "metadata": {
    "ExecuteTime": {
     "end_time": "2023-10-24T09:16:33.971926Z",
     "start_time": "2023-10-24T09:16:33.956918Z"
    }
   },
   "outputs": [],
   "source": [
    "#avec ces 2 tests, on peut conclure que les variables depth et table sont liées significativement avec notre variable price"
   ]
  },
  {
   "cell_type": "code",
   "execution_count": 168,
   "id": "dca8828a",
   "metadata": {
    "ExecuteTime": {
     "end_time": "2023-10-24T09:16:34.137916Z",
     "start_time": "2023-10-24T09:16:33.980147Z"
    }
   },
   "outputs": [
    {
     "data": {
      "text/html": [
       "<div>\n",
       "<style scoped>\n",
       "    .dataframe tbody tr th:only-of-type {\n",
       "        vertical-align: middle;\n",
       "    }\n",
       "\n",
       "    .dataframe tbody tr th {\n",
       "        vertical-align: top;\n",
       "    }\n",
       "\n",
       "    .dataframe thead th {\n",
       "        text-align: right;\n",
       "    }\n",
       "</style>\n",
       "<table border=\"1\" class=\"dataframe\">\n",
       "  <thead>\n",
       "    <tr style=\"text-align: right;\">\n",
       "      <th></th>\n",
       "      <th>X</th>\n",
       "      <th>Y</th>\n",
       "      <th>method</th>\n",
       "      <th>alternative</th>\n",
       "      <th>n</th>\n",
       "      <th>r</th>\n",
       "      <th>CI95%</th>\n",
       "      <th>p-unc</th>\n",
       "      <th>BF10</th>\n",
       "      <th>power</th>\n",
       "    </tr>\n",
       "  </thead>\n",
       "  <tbody>\n",
       "    <tr>\n",
       "      <th>2</th>\n",
       "      <td>carat</td>\n",
       "      <td>price</td>\n",
       "      <td>pearson</td>\n",
       "      <td>two-sided</td>\n",
       "      <td>100</td>\n",
       "      <td>0.941</td>\n",
       "      <td>[0.91, 0.96]</td>\n",
       "      <td>0.000</td>\n",
       "      <td>1.782e+44</td>\n",
       "      <td>1.000</td>\n",
       "    </tr>\n",
       "    <tr>\n",
       "      <th>5</th>\n",
       "      <td>depth</td>\n",
       "      <td>price</td>\n",
       "      <td>pearson</td>\n",
       "      <td>two-sided</td>\n",
       "      <td>100</td>\n",
       "      <td>0.067</td>\n",
       "      <td>[-0.13, 0.26]</td>\n",
       "      <td>0.509</td>\n",
       "      <td>0.155</td>\n",
       "      <td>0.101</td>\n",
       "    </tr>\n",
       "    <tr>\n",
       "      <th>7</th>\n",
       "      <td>table</td>\n",
       "      <td>price</td>\n",
       "      <td>pearson</td>\n",
       "      <td>two-sided</td>\n",
       "      <td>100</td>\n",
       "      <td>0.067</td>\n",
       "      <td>[-0.13, 0.26]</td>\n",
       "      <td>0.508</td>\n",
       "      <td>0.155</td>\n",
       "      <td>0.102</td>\n",
       "    </tr>\n",
       "    <tr>\n",
       "      <th>9</th>\n",
       "      <td>price</td>\n",
       "      <td>volume</td>\n",
       "      <td>pearson</td>\n",
       "      <td>two-sided</td>\n",
       "      <td>100</td>\n",
       "      <td>0.939</td>\n",
       "      <td>[0.91, 0.96]</td>\n",
       "      <td>0.000</td>\n",
       "      <td>5.574e+43</td>\n",
       "      <td>1.000</td>\n",
       "    </tr>\n",
       "  </tbody>\n",
       "</table>\n",
       "</div>"
      ],
      "text/plain": [
       "       X       Y   method alternative    n      r          CI95%  p-unc  \\\n",
       "2  carat   price  pearson   two-sided  100  0.941   [0.91, 0.96]  0.000   \n",
       "5  depth   price  pearson   two-sided  100  0.067  [-0.13, 0.26]  0.509   \n",
       "7  table   price  pearson   two-sided  100  0.067  [-0.13, 0.26]  0.508   \n",
       "9  price  volume  pearson   two-sided  100  0.939   [0.91, 0.96]  0.000   \n",
       "\n",
       "        BF10  power  \n",
       "2  1.782e+44  1.000  \n",
       "5      0.155  0.101  \n",
       "7      0.155  0.102  \n",
       "9  5.574e+43  1.000  "
      ]
     },
     "execution_count": 168,
     "metadata": {},
     "output_type": "execute_result"
    }
   ],
   "source": [
    "# Import library as pg\n",
    "import pingouin as pg\n",
    "# Perform a hypothesis testing\n",
    "(pg.pairwise_corr(data.sample(100),columns = data.columns, method = 'pearson').round(3)\n",
    ").query('X==\"price\" or Y==\"price\"')"
   ]
  },
  {
   "cell_type": "markdown",
   "id": "28093caa",
   "metadata": {},
   "source": [
    "# Data Split X y"
   ]
  },
  {
   "cell_type": "code",
   "execution_count": 169,
   "id": "7baad485",
   "metadata": {
    "ExecuteTime": {
     "end_time": "2023-10-24T09:16:34.235398Z",
     "start_time": "2023-10-24T09:16:34.208060Z"
    }
   },
   "outputs": [],
   "source": [
    "y=data.price                   #variable à expliquer\n",
    "X=data.drop(columns=\"price\")   #variable explicatives"
   ]
  },
  {
   "cell_type": "code",
   "execution_count": 170,
   "id": "7e301b51",
   "metadata": {
    "ExecuteTime": {
     "end_time": "2023-10-24T09:16:34.434337Z",
     "start_time": "2023-10-24T09:16:34.422136Z"
    }
   },
   "outputs": [
    {
     "data": {
      "text/plain": [
       "0    326\n",
       "1    326\n",
       "2    327\n",
       "3    334\n",
       "4    335\n",
       "Name: price, dtype: int64"
      ]
     },
     "execution_count": 170,
     "metadata": {},
     "output_type": "execute_result"
    }
   ],
   "source": [
    "y.head()"
   ]
  },
  {
   "cell_type": "code",
   "execution_count": 171,
   "id": "6f24d243",
   "metadata": {
    "ExecuteTime": {
     "end_time": "2023-10-24T09:16:34.668095Z",
     "start_time": "2023-10-24T09:16:34.653674Z"
    }
   },
   "outputs": [
    {
     "data": {
      "text/html": [
       "<div>\n",
       "<style scoped>\n",
       "    .dataframe tbody tr th:only-of-type {\n",
       "        vertical-align: middle;\n",
       "    }\n",
       "\n",
       "    .dataframe tbody tr th {\n",
       "        vertical-align: top;\n",
       "    }\n",
       "\n",
       "    .dataframe thead th {\n",
       "        text-align: right;\n",
       "    }\n",
       "</style>\n",
       "<table border=\"1\" class=\"dataframe\">\n",
       "  <thead>\n",
       "    <tr style=\"text-align: right;\">\n",
       "      <th></th>\n",
       "      <th>carat</th>\n",
       "      <th>cut</th>\n",
       "      <th>color</th>\n",
       "      <th>clarity</th>\n",
       "      <th>depth</th>\n",
       "      <th>table</th>\n",
       "      <th>volume</th>\n",
       "    </tr>\n",
       "  </thead>\n",
       "  <tbody>\n",
       "    <tr>\n",
       "      <th>0</th>\n",
       "      <td>0.23</td>\n",
       "      <td>Ideal</td>\n",
       "      <td>E</td>\n",
       "      <td>SI2</td>\n",
       "      <td>61.5</td>\n",
       "      <td>55.0</td>\n",
       "      <td>38.202030</td>\n",
       "    </tr>\n",
       "    <tr>\n",
       "      <th>1</th>\n",
       "      <td>0.21</td>\n",
       "      <td>Premium</td>\n",
       "      <td>E</td>\n",
       "      <td>SI1</td>\n",
       "      <td>59.8</td>\n",
       "      <td>61.0</td>\n",
       "      <td>34.505856</td>\n",
       "    </tr>\n",
       "    <tr>\n",
       "      <th>2</th>\n",
       "      <td>0.23</td>\n",
       "      <td>Good</td>\n",
       "      <td>E</td>\n",
       "      <td>VS1</td>\n",
       "      <td>56.9</td>\n",
       "      <td>65.0</td>\n",
       "      <td>38.076885</td>\n",
       "    </tr>\n",
       "    <tr>\n",
       "      <th>3</th>\n",
       "      <td>0.29</td>\n",
       "      <td>Premium</td>\n",
       "      <td>I</td>\n",
       "      <td>VS2</td>\n",
       "      <td>62.4</td>\n",
       "      <td>58.0</td>\n",
       "      <td>46.724580</td>\n",
       "    </tr>\n",
       "    <tr>\n",
       "      <th>4</th>\n",
       "      <td>0.31</td>\n",
       "      <td>Good</td>\n",
       "      <td>J</td>\n",
       "      <td>SI2</td>\n",
       "      <td>63.3</td>\n",
       "      <td>58.0</td>\n",
       "      <td>51.917250</td>\n",
       "    </tr>\n",
       "  </tbody>\n",
       "</table>\n",
       "</div>"
      ],
      "text/plain": [
       "   carat      cut color clarity  depth  table     volume\n",
       "0   0.23    Ideal     E     SI2   61.5   55.0  38.202030\n",
       "1   0.21  Premium     E     SI1   59.8   61.0  34.505856\n",
       "2   0.23     Good     E     VS1   56.9   65.0  38.076885\n",
       "3   0.29  Premium     I     VS2   62.4   58.0  46.724580\n",
       "4   0.31     Good     J     SI2   63.3   58.0  51.917250"
      ]
     },
     "execution_count": 171,
     "metadata": {},
     "output_type": "execute_result"
    }
   ],
   "source": [
    "X.head()"
   ]
  },
  {
   "cell_type": "markdown",
   "id": "f7dcb292",
   "metadata": {},
   "source": [
    "# Data Encoding"
   ]
  },
  {
   "cell_type": "code",
   "execution_count": 172,
   "id": "f6b8c4bf",
   "metadata": {
    "ExecuteTime": {
     "end_time": "2023-10-24T09:16:35.100786Z",
     "start_time": "2023-10-24T09:16:35.077514Z"
    }
   },
   "outputs": [
    {
     "data": {
      "text/html": [
       "<div>\n",
       "<style scoped>\n",
       "    .dataframe tbody tr th:only-of-type {\n",
       "        vertical-align: middle;\n",
       "    }\n",
       "\n",
       "    .dataframe tbody tr th {\n",
       "        vertical-align: top;\n",
       "    }\n",
       "\n",
       "    .dataframe thead th {\n",
       "        text-align: right;\n",
       "    }\n",
       "</style>\n",
       "<table border=\"1\" class=\"dataframe\">\n",
       "  <thead>\n",
       "    <tr style=\"text-align: right;\">\n",
       "      <th></th>\n",
       "      <th>carat</th>\n",
       "      <th>cut</th>\n",
       "      <th>color</th>\n",
       "      <th>clarity</th>\n",
       "      <th>depth</th>\n",
       "      <th>table</th>\n",
       "      <th>volume</th>\n",
       "    </tr>\n",
       "  </thead>\n",
       "  <tbody>\n",
       "    <tr>\n",
       "      <th>0</th>\n",
       "      <td>0.23</td>\n",
       "      <td>Ideal</td>\n",
       "      <td>E</td>\n",
       "      <td>SI2</td>\n",
       "      <td>61.5</td>\n",
       "      <td>55.0</td>\n",
       "      <td>38.202030</td>\n",
       "    </tr>\n",
       "    <tr>\n",
       "      <th>1</th>\n",
       "      <td>0.21</td>\n",
       "      <td>Premium</td>\n",
       "      <td>E</td>\n",
       "      <td>SI1</td>\n",
       "      <td>59.8</td>\n",
       "      <td>61.0</td>\n",
       "      <td>34.505856</td>\n",
       "    </tr>\n",
       "    <tr>\n",
       "      <th>2</th>\n",
       "      <td>0.23</td>\n",
       "      <td>Good</td>\n",
       "      <td>E</td>\n",
       "      <td>VS1</td>\n",
       "      <td>56.9</td>\n",
       "      <td>65.0</td>\n",
       "      <td>38.076885</td>\n",
       "    </tr>\n",
       "    <tr>\n",
       "      <th>3</th>\n",
       "      <td>0.29</td>\n",
       "      <td>Premium</td>\n",
       "      <td>I</td>\n",
       "      <td>VS2</td>\n",
       "      <td>62.4</td>\n",
       "      <td>58.0</td>\n",
       "      <td>46.724580</td>\n",
       "    </tr>\n",
       "    <tr>\n",
       "      <th>4</th>\n",
       "      <td>0.31</td>\n",
       "      <td>Good</td>\n",
       "      <td>J</td>\n",
       "      <td>SI2</td>\n",
       "      <td>63.3</td>\n",
       "      <td>58.0</td>\n",
       "      <td>51.917250</td>\n",
       "    </tr>\n",
       "  </tbody>\n",
       "</table>\n",
       "</div>"
      ],
      "text/plain": [
       "   carat      cut color clarity  depth  table     volume\n",
       "0   0.23    Ideal     E     SI2   61.5   55.0  38.202030\n",
       "1   0.21  Premium     E     SI1   59.8   61.0  34.505856\n",
       "2   0.23     Good     E     VS1   56.9   65.0  38.076885\n",
       "3   0.29  Premium     I     VS2   62.4   58.0  46.724580\n",
       "4   0.31     Good     J     SI2   63.3   58.0  51.917250"
      ]
     },
     "execution_count": 172,
     "metadata": {},
     "output_type": "execute_result"
    }
   ],
   "source": [
    "X.head()"
   ]
  },
  {
   "cell_type": "code",
   "execution_count": 173,
   "id": "928447d8",
   "metadata": {
    "ExecuteTime": {
     "end_time": "2023-10-24T09:16:35.347821Z",
     "start_time": "2023-10-24T09:16:35.292704Z"
    }
   },
   "outputs": [
    {
     "data": {
      "text/html": [
       "<div>\n",
       "<style scoped>\n",
       "    .dataframe tbody tr th:only-of-type {\n",
       "        vertical-align: middle;\n",
       "    }\n",
       "\n",
       "    .dataframe tbody tr th {\n",
       "        vertical-align: top;\n",
       "    }\n",
       "\n",
       "    .dataframe thead th {\n",
       "        text-align: right;\n",
       "    }\n",
       "</style>\n",
       "<table border=\"1\" class=\"dataframe\">\n",
       "  <thead>\n",
       "    <tr style=\"text-align: right;\">\n",
       "      <th></th>\n",
       "      <th>carat</th>\n",
       "      <th>depth</th>\n",
       "      <th>table</th>\n",
       "      <th>volume</th>\n",
       "      <th>cut_Fair</th>\n",
       "      <th>cut_Good</th>\n",
       "      <th>cut_Ideal</th>\n",
       "      <th>cut_Premium</th>\n",
       "      <th>cut_Very Good</th>\n",
       "      <th>color_D</th>\n",
       "      <th>...</th>\n",
       "      <th>color_I</th>\n",
       "      <th>color_J</th>\n",
       "      <th>clarity_I1</th>\n",
       "      <th>clarity_IF</th>\n",
       "      <th>clarity_SI1</th>\n",
       "      <th>clarity_SI2</th>\n",
       "      <th>clarity_VS1</th>\n",
       "      <th>clarity_VS2</th>\n",
       "      <th>clarity_VVS1</th>\n",
       "      <th>clarity_VVS2</th>\n",
       "    </tr>\n",
       "  </thead>\n",
       "  <tbody>\n",
       "    <tr>\n",
       "      <th>0</th>\n",
       "      <td>0.23</td>\n",
       "      <td>61.5</td>\n",
       "      <td>55.0</td>\n",
       "      <td>38.202030</td>\n",
       "      <td>0</td>\n",
       "      <td>0</td>\n",
       "      <td>1</td>\n",
       "      <td>0</td>\n",
       "      <td>0</td>\n",
       "      <td>0</td>\n",
       "      <td>...</td>\n",
       "      <td>0</td>\n",
       "      <td>0</td>\n",
       "      <td>0</td>\n",
       "      <td>0</td>\n",
       "      <td>0</td>\n",
       "      <td>1</td>\n",
       "      <td>0</td>\n",
       "      <td>0</td>\n",
       "      <td>0</td>\n",
       "      <td>0</td>\n",
       "    </tr>\n",
       "    <tr>\n",
       "      <th>1</th>\n",
       "      <td>0.21</td>\n",
       "      <td>59.8</td>\n",
       "      <td>61.0</td>\n",
       "      <td>34.505856</td>\n",
       "      <td>0</td>\n",
       "      <td>0</td>\n",
       "      <td>0</td>\n",
       "      <td>1</td>\n",
       "      <td>0</td>\n",
       "      <td>0</td>\n",
       "      <td>...</td>\n",
       "      <td>0</td>\n",
       "      <td>0</td>\n",
       "      <td>0</td>\n",
       "      <td>0</td>\n",
       "      <td>1</td>\n",
       "      <td>0</td>\n",
       "      <td>0</td>\n",
       "      <td>0</td>\n",
       "      <td>0</td>\n",
       "      <td>0</td>\n",
       "    </tr>\n",
       "    <tr>\n",
       "      <th>2</th>\n",
       "      <td>0.23</td>\n",
       "      <td>56.9</td>\n",
       "      <td>65.0</td>\n",
       "      <td>38.076885</td>\n",
       "      <td>0</td>\n",
       "      <td>1</td>\n",
       "      <td>0</td>\n",
       "      <td>0</td>\n",
       "      <td>0</td>\n",
       "      <td>0</td>\n",
       "      <td>...</td>\n",
       "      <td>0</td>\n",
       "      <td>0</td>\n",
       "      <td>0</td>\n",
       "      <td>0</td>\n",
       "      <td>0</td>\n",
       "      <td>0</td>\n",
       "      <td>1</td>\n",
       "      <td>0</td>\n",
       "      <td>0</td>\n",
       "      <td>0</td>\n",
       "    </tr>\n",
       "    <tr>\n",
       "      <th>3</th>\n",
       "      <td>0.29</td>\n",
       "      <td>62.4</td>\n",
       "      <td>58.0</td>\n",
       "      <td>46.724580</td>\n",
       "      <td>0</td>\n",
       "      <td>0</td>\n",
       "      <td>0</td>\n",
       "      <td>1</td>\n",
       "      <td>0</td>\n",
       "      <td>0</td>\n",
       "      <td>...</td>\n",
       "      <td>1</td>\n",
       "      <td>0</td>\n",
       "      <td>0</td>\n",
       "      <td>0</td>\n",
       "      <td>0</td>\n",
       "      <td>0</td>\n",
       "      <td>0</td>\n",
       "      <td>1</td>\n",
       "      <td>0</td>\n",
       "      <td>0</td>\n",
       "    </tr>\n",
       "    <tr>\n",
       "      <th>4</th>\n",
       "      <td>0.31</td>\n",
       "      <td>63.3</td>\n",
       "      <td>58.0</td>\n",
       "      <td>51.917250</td>\n",
       "      <td>0</td>\n",
       "      <td>1</td>\n",
       "      <td>0</td>\n",
       "      <td>0</td>\n",
       "      <td>0</td>\n",
       "      <td>0</td>\n",
       "      <td>...</td>\n",
       "      <td>0</td>\n",
       "      <td>1</td>\n",
       "      <td>0</td>\n",
       "      <td>0</td>\n",
       "      <td>0</td>\n",
       "      <td>1</td>\n",
       "      <td>0</td>\n",
       "      <td>0</td>\n",
       "      <td>0</td>\n",
       "      <td>0</td>\n",
       "    </tr>\n",
       "  </tbody>\n",
       "</table>\n",
       "<p>5 rows × 24 columns</p>\n",
       "</div>"
      ],
      "text/plain": [
       "   carat  depth  table     volume  cut_Fair  cut_Good  cut_Ideal  cut_Premium  \\\n",
       "0   0.23   61.5   55.0  38.202030         0         0          1            0   \n",
       "1   0.21   59.8   61.0  34.505856         0         0          0            1   \n",
       "2   0.23   56.9   65.0  38.076885         0         1          0            0   \n",
       "3   0.29   62.4   58.0  46.724580         0         0          0            1   \n",
       "4   0.31   63.3   58.0  51.917250         0         1          0            0   \n",
       "\n",
       "   cut_Very Good  color_D  ...  color_I  color_J  clarity_I1  clarity_IF  \\\n",
       "0              0        0  ...        0        0           0           0   \n",
       "1              0        0  ...        0        0           0           0   \n",
       "2              0        0  ...        0        0           0           0   \n",
       "3              0        0  ...        1        0           0           0   \n",
       "4              0        0  ...        0        1           0           0   \n",
       "\n",
       "   clarity_SI1  clarity_SI2  clarity_VS1  clarity_VS2  clarity_VVS1  \\\n",
       "0            0            1            0            0             0   \n",
       "1            1            0            0            0             0   \n",
       "2            0            0            1            0             0   \n",
       "3            0            0            0            1             0   \n",
       "4            0            1            0            0             0   \n",
       "\n",
       "   clarity_VVS2  \n",
       "0             0  \n",
       "1             0  \n",
       "2             0  \n",
       "3             0  \n",
       "4             0  \n",
       "\n",
       "[5 rows x 24 columns]"
      ]
     },
     "execution_count": 173,
     "metadata": {},
     "output_type": "execute_result"
    }
   ],
   "source": [
    "X=pd.get_dummies(X)\n",
    "X.head()"
   ]
  },
  {
   "cell_type": "markdown",
   "id": "23a1a1bd",
   "metadata": {},
   "source": [
    "# Data Normalisation "
   ]
  },
  {
   "cell_type": "code",
   "execution_count": 174,
   "id": "36088c0e",
   "metadata": {
    "ExecuteTime": {
     "end_time": "2023-10-24T09:16:35.737355Z",
     "start_time": "2023-10-24T09:16:35.722367Z"
    }
   },
   "outputs": [],
   "source": [
    "#X=(X-X.mean())/X.std()   #j ai nbormalisé par la moyenne car c'est un bon estimateur (outliers<5%"
   ]
  },
  {
   "cell_type": "code",
   "execution_count": 175,
   "id": "70e783e0",
   "metadata": {
    "ExecuteTime": {
     "end_time": "2023-10-24T09:16:35.937298Z",
     "start_time": "2023-10-24T09:16:35.903832Z"
    }
   },
   "outputs": [
    {
     "data": {
      "text/html": [
       "<div>\n",
       "<style scoped>\n",
       "    .dataframe tbody tr th:only-of-type {\n",
       "        vertical-align: middle;\n",
       "    }\n",
       "\n",
       "    .dataframe tbody tr th {\n",
       "        vertical-align: top;\n",
       "    }\n",
       "\n",
       "    .dataframe thead th {\n",
       "        text-align: right;\n",
       "    }\n",
       "</style>\n",
       "<table border=\"1\" class=\"dataframe\">\n",
       "  <thead>\n",
       "    <tr style=\"text-align: right;\">\n",
       "      <th></th>\n",
       "      <th>carat</th>\n",
       "      <th>depth</th>\n",
       "      <th>table</th>\n",
       "      <th>volume</th>\n",
       "      <th>cut_Fair</th>\n",
       "      <th>cut_Good</th>\n",
       "      <th>cut_Ideal</th>\n",
       "      <th>cut_Premium</th>\n",
       "      <th>cut_Very Good</th>\n",
       "      <th>color_D</th>\n",
       "      <th>...</th>\n",
       "      <th>color_I</th>\n",
       "      <th>color_J</th>\n",
       "      <th>clarity_I1</th>\n",
       "      <th>clarity_IF</th>\n",
       "      <th>clarity_SI1</th>\n",
       "      <th>clarity_SI2</th>\n",
       "      <th>clarity_VS1</th>\n",
       "      <th>clarity_VS2</th>\n",
       "      <th>clarity_VVS1</th>\n",
       "      <th>clarity_VVS2</th>\n",
       "    </tr>\n",
       "  </thead>\n",
       "  <tbody>\n",
       "    <tr>\n",
       "      <th>0</th>\n",
       "      <td>0.23</td>\n",
       "      <td>61.5</td>\n",
       "      <td>55.0</td>\n",
       "      <td>38.202030</td>\n",
       "      <td>0</td>\n",
       "      <td>0</td>\n",
       "      <td>1</td>\n",
       "      <td>0</td>\n",
       "      <td>0</td>\n",
       "      <td>0</td>\n",
       "      <td>...</td>\n",
       "      <td>0</td>\n",
       "      <td>0</td>\n",
       "      <td>0</td>\n",
       "      <td>0</td>\n",
       "      <td>0</td>\n",
       "      <td>1</td>\n",
       "      <td>0</td>\n",
       "      <td>0</td>\n",
       "      <td>0</td>\n",
       "      <td>0</td>\n",
       "    </tr>\n",
       "    <tr>\n",
       "      <th>1</th>\n",
       "      <td>0.21</td>\n",
       "      <td>59.8</td>\n",
       "      <td>61.0</td>\n",
       "      <td>34.505856</td>\n",
       "      <td>0</td>\n",
       "      <td>0</td>\n",
       "      <td>0</td>\n",
       "      <td>1</td>\n",
       "      <td>0</td>\n",
       "      <td>0</td>\n",
       "      <td>...</td>\n",
       "      <td>0</td>\n",
       "      <td>0</td>\n",
       "      <td>0</td>\n",
       "      <td>0</td>\n",
       "      <td>1</td>\n",
       "      <td>0</td>\n",
       "      <td>0</td>\n",
       "      <td>0</td>\n",
       "      <td>0</td>\n",
       "      <td>0</td>\n",
       "    </tr>\n",
       "    <tr>\n",
       "      <th>2</th>\n",
       "      <td>0.23</td>\n",
       "      <td>56.9</td>\n",
       "      <td>65.0</td>\n",
       "      <td>38.076885</td>\n",
       "      <td>0</td>\n",
       "      <td>1</td>\n",
       "      <td>0</td>\n",
       "      <td>0</td>\n",
       "      <td>0</td>\n",
       "      <td>0</td>\n",
       "      <td>...</td>\n",
       "      <td>0</td>\n",
       "      <td>0</td>\n",
       "      <td>0</td>\n",
       "      <td>0</td>\n",
       "      <td>0</td>\n",
       "      <td>0</td>\n",
       "      <td>1</td>\n",
       "      <td>0</td>\n",
       "      <td>0</td>\n",
       "      <td>0</td>\n",
       "    </tr>\n",
       "    <tr>\n",
       "      <th>3</th>\n",
       "      <td>0.29</td>\n",
       "      <td>62.4</td>\n",
       "      <td>58.0</td>\n",
       "      <td>46.724580</td>\n",
       "      <td>0</td>\n",
       "      <td>0</td>\n",
       "      <td>0</td>\n",
       "      <td>1</td>\n",
       "      <td>0</td>\n",
       "      <td>0</td>\n",
       "      <td>...</td>\n",
       "      <td>1</td>\n",
       "      <td>0</td>\n",
       "      <td>0</td>\n",
       "      <td>0</td>\n",
       "      <td>0</td>\n",
       "      <td>0</td>\n",
       "      <td>0</td>\n",
       "      <td>1</td>\n",
       "      <td>0</td>\n",
       "      <td>0</td>\n",
       "    </tr>\n",
       "    <tr>\n",
       "      <th>4</th>\n",
       "      <td>0.31</td>\n",
       "      <td>63.3</td>\n",
       "      <td>58.0</td>\n",
       "      <td>51.917250</td>\n",
       "      <td>0</td>\n",
       "      <td>1</td>\n",
       "      <td>0</td>\n",
       "      <td>0</td>\n",
       "      <td>0</td>\n",
       "      <td>0</td>\n",
       "      <td>...</td>\n",
       "      <td>0</td>\n",
       "      <td>1</td>\n",
       "      <td>0</td>\n",
       "      <td>0</td>\n",
       "      <td>0</td>\n",
       "      <td>1</td>\n",
       "      <td>0</td>\n",
       "      <td>0</td>\n",
       "      <td>0</td>\n",
       "      <td>0</td>\n",
       "    </tr>\n",
       "  </tbody>\n",
       "</table>\n",
       "<p>5 rows × 24 columns</p>\n",
       "</div>"
      ],
      "text/plain": [
       "   carat  depth  table     volume  cut_Fair  cut_Good  cut_Ideal  cut_Premium  \\\n",
       "0   0.23   61.5   55.0  38.202030         0         0          1            0   \n",
       "1   0.21   59.8   61.0  34.505856         0         0          0            1   \n",
       "2   0.23   56.9   65.0  38.076885         0         1          0            0   \n",
       "3   0.29   62.4   58.0  46.724580         0         0          0            1   \n",
       "4   0.31   63.3   58.0  51.917250         0         1          0            0   \n",
       "\n",
       "   cut_Very Good  color_D  ...  color_I  color_J  clarity_I1  clarity_IF  \\\n",
       "0              0        0  ...        0        0           0           0   \n",
       "1              0        0  ...        0        0           0           0   \n",
       "2              0        0  ...        0        0           0           0   \n",
       "3              0        0  ...        1        0           0           0   \n",
       "4              0        0  ...        0        1           0           0   \n",
       "\n",
       "   clarity_SI1  clarity_SI2  clarity_VS1  clarity_VS2  clarity_VVS1  \\\n",
       "0            0            1            0            0             0   \n",
       "1            1            0            0            0             0   \n",
       "2            0            0            1            0             0   \n",
       "3            0            0            0            1             0   \n",
       "4            0            1            0            0             0   \n",
       "\n",
       "   clarity_VVS2  \n",
       "0             0  \n",
       "1             0  \n",
       "2             0  \n",
       "3             0  \n",
       "4             0  \n",
       "\n",
       "[5 rows x 24 columns]"
      ]
     },
     "execution_count": 175,
     "metadata": {},
     "output_type": "execute_result"
    }
   ],
   "source": [
    "X.head()"
   ]
  },
  {
   "cell_type": "markdown",
   "id": "e020efaf",
   "metadata": {},
   "source": [
    "# Data x y to x y x² xy y² "
   ]
  },
  {
   "cell_type": "code",
   "execution_count": 176,
   "id": "d11ca29c",
   "metadata": {
    "ExecuteTime": {
     "end_time": "2023-10-24T09:16:36.352401Z",
     "start_time": "2023-10-24T09:16:36.328103Z"
    }
   },
   "outputs": [],
   "source": [
    "#attention: cette methode cree de nouvelles combinaison"
   ]
  },
  {
   "cell_type": "raw",
   "id": "bf7faf6a",
   "metadata": {
    "ExecuteTime": {
     "end_time": "2023-10-24T09:00:46.269197Z",
     "start_time": "2023-10-24T09:00:45.740882Z"
    }
   },
   "source": [
    "from sklearn.preprocessing import PolynomialFeatures\n",
    "poly = PolynomialFeatures(2)  #on passe de x y à 1 x y x² xy y²\n",
    "X=pd.DataFrame(poly.fit_transform(X))\n",
    "X.head()"
   ]
  },
  {
   "cell_type": "code",
   "execution_count": 177,
   "id": "2506d379",
   "metadata": {
    "ExecuteTime": {
     "end_time": "2023-10-24T09:16:36.780548Z",
     "start_time": "2023-10-24T09:16:36.771127Z"
    }
   },
   "outputs": [
    {
     "data": {
      "text/plain": [
       "13.541666666666666"
      ]
     },
     "execution_count": 177,
     "metadata": {},
     "output_type": "execute_result"
    }
   ],
   "source": [
    "325/24"
   ]
  },
  {
   "cell_type": "code",
   "execution_count": 178,
   "id": "bec97258",
   "metadata": {
    "ExecuteTime": {
     "end_time": "2023-10-24T09:16:36.984672Z",
     "start_time": "2023-10-24T09:16:36.981617Z"
    }
   },
   "outputs": [],
   "source": [
    "#bonne nouvelle: toutes les variables explicatives sont aux memes echelles"
   ]
  },
  {
   "cell_type": "markdown",
   "id": "83cc2487",
   "metadata": {},
   "source": [
    "# Data Split Train Test"
   ]
  },
  {
   "cell_type": "code",
   "execution_count": 179,
   "id": "7afc7763",
   "metadata": {
    "ExecuteTime": {
     "end_time": "2023-10-24T09:16:37.422783Z",
     "start_time": "2023-10-24T09:16:37.412375Z"
    }
   },
   "outputs": [],
   "source": [
    "import sklearn   \n",
    "from sklearn.model_selection import train_test_split   #on importe l'API qui permet de spliter"
   ]
  },
  {
   "cell_type": "code",
   "execution_count": 180,
   "id": "4e884fd6",
   "metadata": {
    "ExecuteTime": {
     "end_time": "2023-10-24T09:16:37.734777Z",
     "start_time": "2023-10-24T09:16:37.694702Z"
    }
   },
   "outputs": [],
   "source": [
    "X_train,X_test,y_train,y_test=train_test_split(X,y, test_size=0.2)"
   ]
  },
  {
   "cell_type": "code",
   "execution_count": 181,
   "id": "474cb949",
   "metadata": {
    "ExecuteTime": {
     "end_time": "2023-10-24T09:16:37.864656Z",
     "start_time": "2023-10-24T09:16:37.836907Z"
    }
   },
   "outputs": [
    {
     "data": {
      "text/plain": [
       "(43035, 24)"
      ]
     },
     "execution_count": 181,
     "metadata": {},
     "output_type": "execute_result"
    }
   ],
   "source": [
    "X_train.shape"
   ]
  },
  {
   "cell_type": "code",
   "execution_count": 182,
   "id": "83245270",
   "metadata": {
    "ExecuteTime": {
     "end_time": "2023-10-24T09:16:38.068757Z",
     "start_time": "2023-10-24T09:16:38.059915Z"
    }
   },
   "outputs": [
    {
     "data": {
      "text/plain": [
       "(10759, 24)"
      ]
     },
     "execution_count": 182,
     "metadata": {},
     "output_type": "execute_result"
    }
   ],
   "source": [
    "X_test.shape"
   ]
  },
  {
   "cell_type": "code",
   "execution_count": 183,
   "id": "253bf188",
   "metadata": {
    "ExecuteTime": {
     "end_time": "2023-10-24T09:16:38.299092Z",
     "start_time": "2023-10-24T09:16:38.286599Z"
    }
   },
   "outputs": [],
   "source": [
    "#43000 en entrainement et 10000 en test"
   ]
  },
  {
   "cell_type": "markdown",
   "id": "faf3ae0e",
   "metadata": {},
   "source": [
    "# Regression Ml model"
   ]
  },
  {
   "cell_type": "code",
   "execution_count": 184,
   "id": "42d2eb25",
   "metadata": {
    "ExecuteTime": {
     "end_time": "2023-10-24T09:16:38.731945Z",
     "start_time": "2023-10-24T09:16:38.718001Z"
    }
   },
   "outputs": [
    {
     "data": {
      "text/html": [
       "<style>#sk-container-id-2 {color: black;background-color: white;}#sk-container-id-2 pre{padding: 0;}#sk-container-id-2 div.sk-toggleable {background-color: white;}#sk-container-id-2 label.sk-toggleable__label {cursor: pointer;display: block;width: 100%;margin-bottom: 0;padding: 0.3em;box-sizing: border-box;text-align: center;}#sk-container-id-2 label.sk-toggleable__label-arrow:before {content: \"▸\";float: left;margin-right: 0.25em;color: #696969;}#sk-container-id-2 label.sk-toggleable__label-arrow:hover:before {color: black;}#sk-container-id-2 div.sk-estimator:hover label.sk-toggleable__label-arrow:before {color: black;}#sk-container-id-2 div.sk-toggleable__content {max-height: 0;max-width: 0;overflow: hidden;text-align: left;background-color: #f0f8ff;}#sk-container-id-2 div.sk-toggleable__content pre {margin: 0.2em;color: black;border-radius: 0.25em;background-color: #f0f8ff;}#sk-container-id-2 input.sk-toggleable__control:checked~div.sk-toggleable__content {max-height: 200px;max-width: 100%;overflow: auto;}#sk-container-id-2 input.sk-toggleable__control:checked~label.sk-toggleable__label-arrow:before {content: \"▾\";}#sk-container-id-2 div.sk-estimator input.sk-toggleable__control:checked~label.sk-toggleable__label {background-color: #d4ebff;}#sk-container-id-2 div.sk-label input.sk-toggleable__control:checked~label.sk-toggleable__label {background-color: #d4ebff;}#sk-container-id-2 input.sk-hidden--visually {border: 0;clip: rect(1px 1px 1px 1px);clip: rect(1px, 1px, 1px, 1px);height: 1px;margin: -1px;overflow: hidden;padding: 0;position: absolute;width: 1px;}#sk-container-id-2 div.sk-estimator {font-family: monospace;background-color: #f0f8ff;border: 1px dotted black;border-radius: 0.25em;box-sizing: border-box;margin-bottom: 0.5em;}#sk-container-id-2 div.sk-estimator:hover {background-color: #d4ebff;}#sk-container-id-2 div.sk-parallel-item::after {content: \"\";width: 100%;border-bottom: 1px solid gray;flex-grow: 1;}#sk-container-id-2 div.sk-label:hover label.sk-toggleable__label {background-color: #d4ebff;}#sk-container-id-2 div.sk-serial::before {content: \"\";position: absolute;border-left: 1px solid gray;box-sizing: border-box;top: 0;bottom: 0;left: 50%;z-index: 0;}#sk-container-id-2 div.sk-serial {display: flex;flex-direction: column;align-items: center;background-color: white;padding-right: 0.2em;padding-left: 0.2em;position: relative;}#sk-container-id-2 div.sk-item {position: relative;z-index: 1;}#sk-container-id-2 div.sk-parallel {display: flex;align-items: stretch;justify-content: center;background-color: white;position: relative;}#sk-container-id-2 div.sk-item::before, #sk-container-id-2 div.sk-parallel-item::before {content: \"\";position: absolute;border-left: 1px solid gray;box-sizing: border-box;top: 0;bottom: 0;left: 50%;z-index: -1;}#sk-container-id-2 div.sk-parallel-item {display: flex;flex-direction: column;z-index: 1;position: relative;background-color: white;}#sk-container-id-2 div.sk-parallel-item:first-child::after {align-self: flex-end;width: 50%;}#sk-container-id-2 div.sk-parallel-item:last-child::after {align-self: flex-start;width: 50%;}#sk-container-id-2 div.sk-parallel-item:only-child::after {width: 0;}#sk-container-id-2 div.sk-dashed-wrapped {border: 1px dashed gray;margin: 0 0.4em 0.5em 0.4em;box-sizing: border-box;padding-bottom: 0.4em;background-color: white;}#sk-container-id-2 div.sk-label label {font-family: monospace;font-weight: bold;display: inline-block;line-height: 1.2em;}#sk-container-id-2 div.sk-label-container {text-align: center;}#sk-container-id-2 div.sk-container {/* jupyter's `normalize.less` sets `[hidden] { display: none; }` but bootstrap.min.css set `[hidden] { display: none !important; }` so we also need the `!important` here to be able to override the default hidden behavior on the sphinx rendered scikit-learn.org. See: https://github.com/scikit-learn/scikit-learn/issues/21755 */display: inline-block !important;position: relative;}#sk-container-id-2 div.sk-text-repr-fallback {display: none;}</style><div id=\"sk-container-id-2\" class=\"sk-top-container\"><div class=\"sk-text-repr-fallback\"><pre>LinearRegression()</pre><b>In a Jupyter environment, please rerun this cell to show the HTML representation or trust the notebook. <br />On GitHub, the HTML representation is unable to render, please try loading this page with nbviewer.org.</b></div><div class=\"sk-container\" hidden><div class=\"sk-item\"><div class=\"sk-estimator sk-toggleable\"><input class=\"sk-toggleable__control sk-hidden--visually\" id=\"sk-estimator-id-2\" type=\"checkbox\" checked><label for=\"sk-estimator-id-2\" class=\"sk-toggleable__label sk-toggleable__label-arrow\">LinearRegression</label><div class=\"sk-toggleable__content\"><pre>LinearRegression()</pre></div></div></div></div></div>"
      ],
      "text/plain": [
       "LinearRegression()"
      ]
     },
     "execution_count": 184,
     "metadata": {},
     "output_type": "execute_result"
    }
   ],
   "source": [
    "from sklearn.neighbors import KNeighborsRegressor #Classifier\n",
    "from sklearn.linear_model import LinearRegression\n",
    "model=LinearRegression()\n",
    "model"
   ]
  },
  {
   "cell_type": "code",
   "execution_count": 185,
   "id": "b733fa5a",
   "metadata": {
    "ExecuteTime": {
     "end_time": "2023-10-24T09:16:39.182151Z",
     "start_time": "2023-10-24T09:16:38.907704Z"
    }
   },
   "outputs": [
    {
     "name": "stdout",
     "output_type": "stream",
     "text": [
      "score en entrainement  0.9166841058119957\n",
      "score en test  0.9110326980709827\n"
     ]
    }
   ],
   "source": [
    "model.fit(X_train,y_train)\n",
    "print(\"score en entrainement \", model.score(X_train,y_train))\n",
    "print(\"score en test \", model.score(X_test,y_test))"
   ]
  },
  {
   "cell_type": "code",
   "execution_count": 186,
   "id": "320885e0",
   "metadata": {
    "ExecuteTime": {
     "end_time": "2023-10-24T09:16:39.198052Z",
     "start_time": "2023-10-24T09:16:39.184246Z"
    }
   },
   "outputs": [
    {
     "data": {
      "text/plain": [
       "(43035, 24)"
      ]
     },
     "execution_count": 186,
     "metadata": {},
     "output_type": "execute_result"
    }
   ],
   "source": [
    "X_train.shape"
   ]
  },
  {
   "cell_type": "code",
   "execution_count": 187,
   "id": "1281fa3c",
   "metadata": {
    "ExecuteTime": {
     "end_time": "2023-10-24T09:16:39.374614Z",
     "start_time": "2023-10-24T09:16:39.350715Z"
    }
   },
   "outputs": [
    {
     "data": {
      "text/plain": [
       "13986375"
      ]
     },
     "execution_count": 187,
     "metadata": {},
     "output_type": "execute_result"
    }
   ],
   "source": [
    "43035*325"
   ]
  },
  {
   "cell_type": "code",
   "execution_count": 188,
   "id": "bc5240e0",
   "metadata": {
    "ExecuteTime": {
     "end_time": "2023-10-24T09:16:39.595858Z",
     "start_time": "2023-10-24T09:16:39.580075Z"
    }
   },
   "outputs": [
    {
     "data": {
      "text/plain": [
       "29996      716\n",
       "44158     1565\n",
       "1128      2919\n",
       "46698     1792\n",
       "22570    10619\n",
       "15472     6196\n",
       "53539     2691\n",
       "14143     5739\n",
       "52346     2499\n",
       "38401     1024\n",
       "Name: price, dtype: int64"
      ]
     },
     "execution_count": 188,
     "metadata": {},
     "output_type": "execute_result"
    }
   ],
   "source": [
    "y_test.head(10) #realite"
   ]
  },
  {
   "cell_type": "code",
   "execution_count": 189,
   "id": "8ca572f7",
   "metadata": {
    "ExecuteTime": {
     "end_time": "2023-10-24T09:16:39.850408Z",
     "start_time": "2023-10-24T09:16:39.827432Z"
    }
   },
   "outputs": [
    {
     "data": {
      "text/plain": [
       "array([  -45.9494403 ,  2349.10889253,  3733.03192621,  2647.73219477,\n",
       "       11250.2074827 ,  6438.39997577,  2396.29306453,  7338.66756577,\n",
       "        3200.79680774,   847.49736191])"
      ]
     },
     "execution_count": 189,
     "metadata": {},
     "output_type": "execute_result"
    }
   ],
   "source": [
    "model.predict(X_test)[0:10]   #prediction"
   ]
  },
  {
   "cell_type": "code",
   "execution_count": 190,
   "id": "0931abad",
   "metadata": {
    "ExecuteTime": {
     "end_time": "2023-10-24T09:16:40.048882Z",
     "start_time": "2023-10-24T09:16:40.045816Z"
    }
   },
   "outputs": [],
   "source": [
    "#regression lineaire  (remplace logistique regression )\n",
    "#svm\n",
    "#bayes\n",
    "#knn (deja fait aujourdh'hui)"
   ]
  },
  {
   "cell_type": "code",
   "execution_count": 191,
   "id": "3b54b2f6",
   "metadata": {
    "ExecuteTime": {
     "end_time": "2023-10-24T09:16:40.293403Z",
     "start_time": "2023-10-24T09:16:40.267068Z"
    }
   },
   "outputs": [
    {
     "data": {
      "text/plain": [
       "29996      716\n",
       "44158     1565\n",
       "1128      2919\n",
       "46698     1792\n",
       "22570    10619\n",
       "         ...  \n",
       "8534      4429\n",
       "24265    12492\n",
       "4733       573\n",
       "2807      3264\n",
       "35682      910\n",
       "Name: price, Length: 10759, dtype: int64"
      ]
     },
     "execution_count": 191,
     "metadata": {},
     "output_type": "execute_result"
    }
   ],
   "source": [
    "y_pred=model.predict(X_test)\n",
    "y_test"
   ]
  },
  {
   "cell_type": "markdown",
   "id": "12c2159e",
   "metadata": {},
   "source": [
    "# Analyse des erreurs"
   ]
  },
  {
   "cell_type": "code",
   "execution_count": 192,
   "id": "8fa2f490",
   "metadata": {
    "ExecuteTime": {
     "end_time": "2023-10-24T09:16:40.746052Z",
     "start_time": "2023-10-24T09:16:40.721660Z"
    }
   },
   "outputs": [
    {
     "data": {
      "text/html": [
       "<div>\n",
       "<style scoped>\n",
       "    .dataframe tbody tr th:only-of-type {\n",
       "        vertical-align: middle;\n",
       "    }\n",
       "\n",
       "    .dataframe tbody tr th {\n",
       "        vertical-align: top;\n",
       "    }\n",
       "\n",
       "    .dataframe thead th {\n",
       "        text-align: right;\n",
       "    }\n",
       "</style>\n",
       "<table border=\"1\" class=\"dataframe\">\n",
       "  <thead>\n",
       "    <tr style=\"text-align: right;\">\n",
       "      <th></th>\n",
       "    </tr>\n",
       "  </thead>\n",
       "  <tbody>\n",
       "  </tbody>\n",
       "</table>\n",
       "</div>"
      ],
      "text/plain": [
       "Empty DataFrame\n",
       "Columns: []\n",
       "Index: []"
      ]
     },
     "execution_count": 192,
     "metadata": {},
     "output_type": "execute_result"
    }
   ],
   "source": [
    "resultat=pd.DataFrame()\n",
    "resultat"
   ]
  },
  {
   "cell_type": "code",
   "execution_count": 193,
   "id": "ea0c1f88",
   "metadata": {
    "ExecuteTime": {
     "end_time": "2023-10-24T09:16:40.954272Z",
     "start_time": "2023-10-24T09:16:40.929336Z"
    }
   },
   "outputs": [
    {
     "data": {
      "text/html": [
       "<div>\n",
       "<style scoped>\n",
       "    .dataframe tbody tr th:only-of-type {\n",
       "        vertical-align: middle;\n",
       "    }\n",
       "\n",
       "    .dataframe tbody tr th {\n",
       "        vertical-align: top;\n",
       "    }\n",
       "\n",
       "    .dataframe thead th {\n",
       "        text-align: right;\n",
       "    }\n",
       "</style>\n",
       "<table border=\"1\" class=\"dataframe\">\n",
       "  <thead>\n",
       "    <tr style=\"text-align: right;\">\n",
       "      <th></th>\n",
       "      <th>realite</th>\n",
       "      <th>prediction</th>\n",
       "      <th>error</th>\n",
       "    </tr>\n",
       "  </thead>\n",
       "  <tbody>\n",
       "    <tr>\n",
       "      <th>29996</th>\n",
       "      <td>716</td>\n",
       "      <td>-45.949440</td>\n",
       "      <td>761.949440</td>\n",
       "    </tr>\n",
       "    <tr>\n",
       "      <th>44158</th>\n",
       "      <td>1565</td>\n",
       "      <td>2349.108893</td>\n",
       "      <td>784.108893</td>\n",
       "    </tr>\n",
       "    <tr>\n",
       "      <th>1128</th>\n",
       "      <td>2919</td>\n",
       "      <td>3733.031926</td>\n",
       "      <td>814.031926</td>\n",
       "    </tr>\n",
       "    <tr>\n",
       "      <th>46698</th>\n",
       "      <td>1792</td>\n",
       "      <td>2647.732195</td>\n",
       "      <td>855.732195</td>\n",
       "    </tr>\n",
       "    <tr>\n",
       "      <th>22570</th>\n",
       "      <td>10619</td>\n",
       "      <td>11250.207483</td>\n",
       "      <td>631.207483</td>\n",
       "    </tr>\n",
       "    <tr>\n",
       "      <th>...</th>\n",
       "      <td>...</td>\n",
       "      <td>...</td>\n",
       "      <td>...</td>\n",
       "    </tr>\n",
       "    <tr>\n",
       "      <th>8534</th>\n",
       "      <td>4429</td>\n",
       "      <td>5157.855237</td>\n",
       "      <td>728.855237</td>\n",
       "    </tr>\n",
       "    <tr>\n",
       "      <th>24265</th>\n",
       "      <td>12492</td>\n",
       "      <td>12260.290028</td>\n",
       "      <td>231.709972</td>\n",
       "    </tr>\n",
       "    <tr>\n",
       "      <th>4733</th>\n",
       "      <td>573</td>\n",
       "      <td>222.429265</td>\n",
       "      <td>350.570735</td>\n",
       "    </tr>\n",
       "    <tr>\n",
       "      <th>2807</th>\n",
       "      <td>3264</td>\n",
       "      <td>4110.597169</td>\n",
       "      <td>846.597169</td>\n",
       "    </tr>\n",
       "    <tr>\n",
       "      <th>35682</th>\n",
       "      <td>910</td>\n",
       "      <td>1377.717138</td>\n",
       "      <td>467.717138</td>\n",
       "    </tr>\n",
       "  </tbody>\n",
       "</table>\n",
       "<p>10759 rows × 3 columns</p>\n",
       "</div>"
      ],
      "text/plain": [
       "       realite    prediction       error\n",
       "29996      716    -45.949440  761.949440\n",
       "44158     1565   2349.108893  784.108893\n",
       "1128      2919   3733.031926  814.031926\n",
       "46698     1792   2647.732195  855.732195\n",
       "22570    10619  11250.207483  631.207483\n",
       "...        ...           ...         ...\n",
       "8534      4429   5157.855237  728.855237\n",
       "24265    12492  12260.290028  231.709972\n",
       "4733       573    222.429265  350.570735\n",
       "2807      3264   4110.597169  846.597169\n",
       "35682      910   1377.717138  467.717138\n",
       "\n",
       "[10759 rows x 3 columns]"
      ]
     },
     "execution_count": 193,
     "metadata": {},
     "output_type": "execute_result"
    }
   ],
   "source": [
    "resultat[\"realite\"]=y_test\n",
    "resultat[\"prediction\"]=y_pred\n",
    "resultat[\"error\"]=abs(resultat[\"realite\"]-resultat[\"prediction\"])\n",
    "resultat\n"
   ]
  },
  {
   "cell_type": "code",
   "execution_count": 194,
   "id": "177aa94e",
   "metadata": {
    "ExecuteTime": {
     "end_time": "2023-10-24T09:16:41.195426Z",
     "start_time": "2023-10-24T09:16:41.148944Z"
    }
   },
   "outputs": [
    {
     "data": {
      "text/html": [
       "<div>\n",
       "<style scoped>\n",
       "    .dataframe tbody tr th:only-of-type {\n",
       "        vertical-align: middle;\n",
       "    }\n",
       "\n",
       "    .dataframe tbody tr th {\n",
       "        vertical-align: top;\n",
       "    }\n",
       "\n",
       "    .dataframe thead th {\n",
       "        text-align: right;\n",
       "    }\n",
       "</style>\n",
       "<table border=\"1\" class=\"dataframe\">\n",
       "  <thead>\n",
       "    <tr style=\"text-align: right;\">\n",
       "      <th></th>\n",
       "      <th>realite</th>\n",
       "      <th>prediction</th>\n",
       "      <th>error</th>\n",
       "    </tr>\n",
       "  </thead>\n",
       "  <tbody>\n",
       "    <tr>\n",
       "      <th>count</th>\n",
       "      <td>10759.000000</td>\n",
       "      <td>10759.000000</td>\n",
       "      <td>10759.000000</td>\n",
       "    </tr>\n",
       "    <tr>\n",
       "      <th>mean</th>\n",
       "      <td>3963.729157</td>\n",
       "      <td>3976.689192</td>\n",
       "      <td>810.686052</td>\n",
       "    </tr>\n",
       "    <tr>\n",
       "      <th>std</th>\n",
       "      <td>3999.124503</td>\n",
       "      <td>3839.561912</td>\n",
       "      <td>874.974747</td>\n",
       "    </tr>\n",
       "    <tr>\n",
       "      <th>min</th>\n",
       "      <td>326.000000</td>\n",
       "      <td>-4560.554336</td>\n",
       "      <td>0.348901</td>\n",
       "    </tr>\n",
       "    <tr>\n",
       "      <th>25%</th>\n",
       "      <td>965.000000</td>\n",
       "      <td>985.435567</td>\n",
       "      <td>304.452352</td>\n",
       "    </tr>\n",
       "    <tr>\n",
       "      <th>50%</th>\n",
       "      <td>2444.000000</td>\n",
       "      <td>3030.432285</td>\n",
       "      <td>610.437800</td>\n",
       "    </tr>\n",
       "    <tr>\n",
       "      <th>75%</th>\n",
       "      <td>5376.000000</td>\n",
       "      <td>6151.973927</td>\n",
       "      <td>996.206530</td>\n",
       "    </tr>\n",
       "    <tr>\n",
       "      <th>max</th>\n",
       "      <td>18781.000000</td>\n",
       "      <td>34814.220726</td>\n",
       "      <td>22112.477937</td>\n",
       "    </tr>\n",
       "  </tbody>\n",
       "</table>\n",
       "</div>"
      ],
      "text/plain": [
       "            realite    prediction         error\n",
       "count  10759.000000  10759.000000  10759.000000\n",
       "mean    3963.729157   3976.689192    810.686052\n",
       "std     3999.124503   3839.561912    874.974747\n",
       "min      326.000000  -4560.554336      0.348901\n",
       "25%      965.000000    985.435567    304.452352\n",
       "50%     2444.000000   3030.432285    610.437800\n",
       "75%     5376.000000   6151.973927    996.206530\n",
       "max    18781.000000  34814.220726  22112.477937"
      ]
     },
     "execution_count": 194,
     "metadata": {},
     "output_type": "execute_result"
    }
   ],
   "source": [
    "resultat.describe()"
   ]
  },
  {
   "cell_type": "code",
   "execution_count": 195,
   "id": "7a67e98a",
   "metadata": {
    "ExecuteTime": {
     "end_time": "2023-10-24T09:16:41.630335Z",
     "start_time": "2023-10-24T09:16:41.365996Z"
    }
   },
   "outputs": [
    {
     "data": {
      "text/plain": [
       "<AxesSubplot:>"
      ]
     },
     "execution_count": 195,
     "metadata": {},
     "output_type": "execute_result"
    },
    {
     "data": {
      "image/png": "[encoded data removed]",
      "text/plain": [
       "<Figure size 576x396 with 1 Axes>"
      ]
     },
     "metadata": {},
     "output_type": "display_data"
    }
   ],
   "source": [
    "resultat.error.plot(kind=\"box\")"
   ]
  },
  {
   "cell_type": "code",
   "execution_count": 196,
   "id": "f47a996b",
   "metadata": {
    "ExecuteTime": {
     "end_time": "2023-10-24T09:16:41.646305Z",
     "start_time": "2023-10-24T09:16:41.631940Z"
    }
   },
   "outputs": [],
   "source": [
    "#En generale on commet des erreurs de 477 euros au niveau des prix"
   ]
  },
  {
   "cell_type": "code",
   "execution_count": 197,
   "id": "4ea883dc",
   "metadata": {
    "ExecuteTime": {
     "end_time": "2023-10-24T09:16:41.830254Z",
     "start_time": "2023-10-24T09:16:41.806007Z"
    }
   },
   "outputs": [
    {
     "data": {
      "text/html": [
       "<div>\n",
       "<style scoped>\n",
       "    .dataframe tbody tr th:only-of-type {\n",
       "        vertical-align: middle;\n",
       "    }\n",
       "\n",
       "    .dataframe tbody tr th {\n",
       "        vertical-align: top;\n",
       "    }\n",
       "\n",
       "    .dataframe thead th {\n",
       "        text-align: right;\n",
       "    }\n",
       "</style>\n",
       "<table border=\"1\" class=\"dataframe\">\n",
       "  <thead>\n",
       "    <tr style=\"text-align: right;\">\n",
       "      <th></th>\n",
       "      <th>realite</th>\n",
       "      <th>prediction</th>\n",
       "      <th>error</th>\n",
       "      <th>error_relative</th>\n",
       "    </tr>\n",
       "  </thead>\n",
       "  <tbody>\n",
       "    <tr>\n",
       "      <th>29996</th>\n",
       "      <td>716</td>\n",
       "      <td>-45.949440</td>\n",
       "      <td>761.949440</td>\n",
       "      <td>106.417520</td>\n",
       "    </tr>\n",
       "    <tr>\n",
       "      <th>44158</th>\n",
       "      <td>1565</td>\n",
       "      <td>2349.108893</td>\n",
       "      <td>784.108893</td>\n",
       "      <td>50.102805</td>\n",
       "    </tr>\n",
       "    <tr>\n",
       "      <th>1128</th>\n",
       "      <td>2919</td>\n",
       "      <td>3733.031926</td>\n",
       "      <td>814.031926</td>\n",
       "      <td>27.887356</td>\n",
       "    </tr>\n",
       "    <tr>\n",
       "      <th>46698</th>\n",
       "      <td>1792</td>\n",
       "      <td>2647.732195</td>\n",
       "      <td>855.732195</td>\n",
       "      <td>47.752913</td>\n",
       "    </tr>\n",
       "    <tr>\n",
       "      <th>22570</th>\n",
       "      <td>10619</td>\n",
       "      <td>11250.207483</td>\n",
       "      <td>631.207483</td>\n",
       "      <td>5.944133</td>\n",
       "    </tr>\n",
       "    <tr>\n",
       "      <th>...</th>\n",
       "      <td>...</td>\n",
       "      <td>...</td>\n",
       "      <td>...</td>\n",
       "      <td>...</td>\n",
       "    </tr>\n",
       "    <tr>\n",
       "      <th>8534</th>\n",
       "      <td>4429</td>\n",
       "      <td>5157.855237</td>\n",
       "      <td>728.855237</td>\n",
       "      <td>16.456429</td>\n",
       "    </tr>\n",
       "    <tr>\n",
       "      <th>24265</th>\n",
       "      <td>12492</td>\n",
       "      <td>12260.290028</td>\n",
       "      <td>231.709972</td>\n",
       "      <td>1.854867</td>\n",
       "    </tr>\n",
       "    <tr>\n",
       "      <th>4733</th>\n",
       "      <td>573</td>\n",
       "      <td>222.429265</td>\n",
       "      <td>350.570735</td>\n",
       "      <td>61.181629</td>\n",
       "    </tr>\n",
       "    <tr>\n",
       "      <th>2807</th>\n",
       "      <td>3264</td>\n",
       "      <td>4110.597169</td>\n",
       "      <td>846.597169</td>\n",
       "      <td>25.937413</td>\n",
       "    </tr>\n",
       "    <tr>\n",
       "      <th>35682</th>\n",
       "      <td>910</td>\n",
       "      <td>1377.717138</td>\n",
       "      <td>467.717138</td>\n",
       "      <td>51.397488</td>\n",
       "    </tr>\n",
       "  </tbody>\n",
       "</table>\n",
       "<p>10759 rows × 4 columns</p>\n",
       "</div>"
      ],
      "text/plain": [
       "       realite    prediction       error  error_relative\n",
       "29996      716    -45.949440  761.949440      106.417520\n",
       "44158     1565   2349.108893  784.108893       50.102805\n",
       "1128      2919   3733.031926  814.031926       27.887356\n",
       "46698     1792   2647.732195  855.732195       47.752913\n",
       "22570    10619  11250.207483  631.207483        5.944133\n",
       "...        ...           ...         ...             ...\n",
       "8534      4429   5157.855237  728.855237       16.456429\n",
       "24265    12492  12260.290028  231.709972        1.854867\n",
       "4733       573    222.429265  350.570735       61.181629\n",
       "2807      3264   4110.597169  846.597169       25.937413\n",
       "35682      910   1377.717138  467.717138       51.397488\n",
       "\n",
       "[10759 rows x 4 columns]"
      ]
     },
     "execution_count": 197,
     "metadata": {},
     "output_type": "execute_result"
    }
   ],
   "source": [
    "resultat[\"error_relative\"]=resultat[\"error\"]/resultat[\"realite\"]*100\n",
    "resultat\n"
   ]
  },
  {
   "cell_type": "code",
   "execution_count": 198,
   "id": "998abada",
   "metadata": {
    "ExecuteTime": {
     "end_time": "2023-10-24T09:16:42.062733Z",
     "start_time": "2023-10-24T09:16:42.022948Z"
    }
   },
   "outputs": [
    {
     "data": {
      "text/html": [
       "<div>\n",
       "<style scoped>\n",
       "    .dataframe tbody tr th:only-of-type {\n",
       "        vertical-align: middle;\n",
       "    }\n",
       "\n",
       "    .dataframe tbody tr th {\n",
       "        vertical-align: top;\n",
       "    }\n",
       "\n",
       "    .dataframe thead th {\n",
       "        text-align: right;\n",
       "    }\n",
       "</style>\n",
       "<table border=\"1\" class=\"dataframe\">\n",
       "  <thead>\n",
       "    <tr style=\"text-align: right;\">\n",
       "      <th></th>\n",
       "      <th>realite</th>\n",
       "      <th>prediction</th>\n",
       "      <th>error</th>\n",
       "      <th>error_relative</th>\n",
       "    </tr>\n",
       "  </thead>\n",
       "  <tbody>\n",
       "    <tr>\n",
       "      <th>21833</th>\n",
       "      <td>9900</td>\n",
       "      <td>9899.397311</td>\n",
       "      <td>0.602689</td>\n",
       "      <td>0.006088</td>\n",
       "    </tr>\n",
       "    <tr>\n",
       "      <th>51067</th>\n",
       "      <td>2332</td>\n",
       "      <td>2332.348901</td>\n",
       "      <td>0.348901</td>\n",
       "      <td>0.014961</td>\n",
       "    </tr>\n",
       "    <tr>\n",
       "      <th>44552</th>\n",
       "      <td>1605</td>\n",
       "      <td>1605.355094</td>\n",
       "      <td>0.355094</td>\n",
       "      <td>0.022124</td>\n",
       "    </tr>\n",
       "    <tr>\n",
       "      <th>15202</th>\n",
       "      <td>6108</td>\n",
       "      <td>6106.593622</td>\n",
       "      <td>1.406378</td>\n",
       "      <td>0.023025</td>\n",
       "    </tr>\n",
       "    <tr>\n",
       "      <th>19583</th>\n",
       "      <td>8213</td>\n",
       "      <td>8215.718574</td>\n",
       "      <td>2.718574</td>\n",
       "      <td>0.033101</td>\n",
       "    </tr>\n",
       "    <tr>\n",
       "      <th>...</th>\n",
       "      <td>...</td>\n",
       "      <td>...</td>\n",
       "      <td>...</td>\n",
       "      <td>...</td>\n",
       "    </tr>\n",
       "    <tr>\n",
       "      <th>24</th>\n",
       "      <td>353</td>\n",
       "      <td>-2565.499025</td>\n",
       "      <td>2918.499025</td>\n",
       "      <td>826.770262</td>\n",
       "    </tr>\n",
       "    <tr>\n",
       "      <th>10021</th>\n",
       "      <td>413</td>\n",
       "      <td>-3297.370560</td>\n",
       "      <td>3710.370560</td>\n",
       "      <td>898.394809</td>\n",
       "    </tr>\n",
       "    <tr>\n",
       "      <th>31962</th>\n",
       "      <td>452</td>\n",
       "      <td>-3662.209926</td>\n",
       "      <td>4114.209926</td>\n",
       "      <td>910.223435</td>\n",
       "    </tr>\n",
       "    <tr>\n",
       "      <th>43988</th>\n",
       "      <td>394</td>\n",
       "      <td>-4061.979826</td>\n",
       "      <td>4455.979826</td>\n",
       "      <td>1130.959347</td>\n",
       "    </tr>\n",
       "    <tr>\n",
       "      <th>4</th>\n",
       "      <td>335</td>\n",
       "      <td>-3635.847344</td>\n",
       "      <td>3970.847344</td>\n",
       "      <td>1185.327565</td>\n",
       "    </tr>\n",
       "  </tbody>\n",
       "</table>\n",
       "<p>10759 rows × 4 columns</p>\n",
       "</div>"
      ],
      "text/plain": [
       "       realite   prediction        error  error_relative\n",
       "21833     9900  9899.397311     0.602689        0.006088\n",
       "51067     2332  2332.348901     0.348901        0.014961\n",
       "44552     1605  1605.355094     0.355094        0.022124\n",
       "15202     6108  6106.593622     1.406378        0.023025\n",
       "19583     8213  8215.718574     2.718574        0.033101\n",
       "...        ...          ...          ...             ...\n",
       "24         353 -2565.499025  2918.499025      826.770262\n",
       "10021      413 -3297.370560  3710.370560      898.394809\n",
       "31962      452 -3662.209926  4114.209926      910.223435\n",
       "43988      394 -4061.979826  4455.979826     1130.959347\n",
       "4          335 -3635.847344  3970.847344     1185.327565\n",
       "\n",
       "[10759 rows x 4 columns]"
      ]
     },
     "execution_count": 198,
     "metadata": {},
     "output_type": "execute_result"
    }
   ],
   "source": [
    "resultat.sort_values(by=\"error_relative\")"
   ]
  },
  {
   "cell_type": "code",
   "execution_count": 199,
   "id": "b28a3607",
   "metadata": {
    "ExecuteTime": {
     "end_time": "2023-10-24T09:16:42.296350Z",
     "start_time": "2023-10-24T09:16:42.256213Z"
    }
   },
   "outputs": [
    {
     "data": {
      "text/html": [
       "<div>\n",
       "<style scoped>\n",
       "    .dataframe tbody tr th:only-of-type {\n",
       "        vertical-align: middle;\n",
       "    }\n",
       "\n",
       "    .dataframe tbody tr th {\n",
       "        vertical-align: top;\n",
       "    }\n",
       "\n",
       "    .dataframe thead th {\n",
       "        text-align: right;\n",
       "    }\n",
       "</style>\n",
       "<table border=\"1\" class=\"dataframe\">\n",
       "  <thead>\n",
       "    <tr style=\"text-align: right;\">\n",
       "      <th></th>\n",
       "      <th>realite</th>\n",
       "      <th>prediction</th>\n",
       "      <th>error</th>\n",
       "      <th>error_relative</th>\n",
       "    </tr>\n",
       "  </thead>\n",
       "  <tbody>\n",
       "    <tr>\n",
       "      <th>count</th>\n",
       "      <td>10759.000000</td>\n",
       "      <td>10759.000000</td>\n",
       "      <td>10759.000000</td>\n",
       "      <td>10759.000000</td>\n",
       "    </tr>\n",
       "    <tr>\n",
       "      <th>mean</th>\n",
       "      <td>3963.729157</td>\n",
       "      <td>3976.689192</td>\n",
       "      <td>810.686052</td>\n",
       "      <td>44.455360</td>\n",
       "    </tr>\n",
       "    <tr>\n",
       "      <th>std</th>\n",
       "      <td>3999.124503</td>\n",
       "      <td>3839.561912</td>\n",
       "      <td>874.974747</td>\n",
       "      <td>74.437055</td>\n",
       "    </tr>\n",
       "    <tr>\n",
       "      <th>min</th>\n",
       "      <td>326.000000</td>\n",
       "      <td>-4560.554336</td>\n",
       "      <td>0.348901</td>\n",
       "      <td>0.006088</td>\n",
       "    </tr>\n",
       "    <tr>\n",
       "      <th>25%</th>\n",
       "      <td>965.000000</td>\n",
       "      <td>985.435567</td>\n",
       "      <td>304.452352</td>\n",
       "      <td>10.437003</td>\n",
       "    </tr>\n",
       "    <tr>\n",
       "      <th>50%</th>\n",
       "      <td>2444.000000</td>\n",
       "      <td>3030.432285</td>\n",
       "      <td>610.437800</td>\n",
       "      <td>23.048043</td>\n",
       "    </tr>\n",
       "    <tr>\n",
       "      <th>75%</th>\n",
       "      <td>5376.000000</td>\n",
       "      <td>6151.973927</td>\n",
       "      <td>996.206530</td>\n",
       "      <td>44.021714</td>\n",
       "    </tr>\n",
       "    <tr>\n",
       "      <th>max</th>\n",
       "      <td>18781.000000</td>\n",
       "      <td>34814.220726</td>\n",
       "      <td>22112.477937</td>\n",
       "      <td>1185.327565</td>\n",
       "    </tr>\n",
       "  </tbody>\n",
       "</table>\n",
       "</div>"
      ],
      "text/plain": [
       "            realite    prediction         error  error_relative\n",
       "count  10759.000000  10759.000000  10759.000000    10759.000000\n",
       "mean    3963.729157   3976.689192    810.686052       44.455360\n",
       "std     3999.124503   3839.561912    874.974747       74.437055\n",
       "min      326.000000  -4560.554336      0.348901        0.006088\n",
       "25%      965.000000    985.435567    304.452352       10.437003\n",
       "50%     2444.000000   3030.432285    610.437800       23.048043\n",
       "75%     5376.000000   6151.973927    996.206530       44.021714\n",
       "max    18781.000000  34814.220726  22112.477937     1185.327565"
      ]
     },
     "execution_count": 199,
     "metadata": {},
     "output_type": "execute_result"
    }
   ],
   "source": [
    "resultat.describe()"
   ]
  },
  {
   "cell_type": "code",
   "execution_count": 200,
   "id": "ab68322a",
   "metadata": {
    "ExecuteTime": {
     "end_time": "2023-10-24T09:16:42.498973Z",
     "start_time": "2023-10-24T09:16:42.482605Z"
    }
   },
   "outputs": [],
   "source": [
    "#En generale on commet des erreurs de 477 euros au niveau des prix ou soit 15% d'erreur relative en moyenne"
   ]
  },
  {
   "cell_type": "code",
   "execution_count": 201,
   "id": "a1a933eb",
   "metadata": {
    "ExecuteTime": {
     "end_time": "2023-10-24T09:16:43.529102Z",
     "start_time": "2023-10-24T09:16:42.718655Z"
    }
   },
   "outputs": [
    {
     "data": {
      "text/plain": [
       "<AxesSubplot:ylabel='Density'>"
      ]
     },
     "execution_count": 201,
     "metadata": {},
     "output_type": "execute_result"
    },
    {
     "data": {
      "image/png": "[encoded data removed]",
      "text/plain": [
       "<Figure size 576x396 with 1 Axes>"
      ]
     },
     "metadata": {},
     "output_type": "display_data"
    }
   ],
   "source": [
    "resultat.error_relative.plot(kind=\"density\")"
   ]
  },
  {
   "cell_type": "code",
   "execution_count": 202,
   "id": "7fed8efd",
   "metadata": {
    "ExecuteTime": {
     "end_time": "2023-10-24T09:16:43.546887Z",
     "start_time": "2023-10-24T09:16:43.532888Z"
    }
   },
   "outputs": [
    {
     "name": "stderr",
     "output_type": "stream",
     "text": [
      "C:\\Users\\sambe\\anaconda3\\lib\\site-packages\\scipy\\stats\\morestats.py:1760: UserWarning: p-value may not be accurate for N > 5000.\n",
      "  warnings.warn(\"p-value may not be accurate for N > 5000.\")\n"
     ]
    },
    {
     "data": {
      "text/plain": [
       "ShapiroResult(statistic=0.5129609107971191, pvalue=0.0)"
      ]
     },
     "execution_count": 202,
     "metadata": {},
     "output_type": "execute_result"
    }
   ],
   "source": [
    "import scipy\n",
    "#H0: tout est normal\n",
    "scipy.stats.shapiro(resultat.error_relative) #pvalue=\"erreur que je commets en disant que la variable n est normale\""
   ]
  },
  {
   "cell_type": "code",
   "execution_count": 203,
   "id": "672a67da",
   "metadata": {
    "ExecuteTime": {
     "end_time": "2023-10-24T09:16:43.577375Z",
     "start_time": "2023-10-24T09:16:43.550127Z"
    }
   },
   "outputs": [],
   "source": [
    "#pvalue<5% donc les erreurs ne sont pas NORMALES!!!\n",
    "#le modele commet trop d'erreur car ces derniers ne sont normales (les erreurs ne sont pas isssues de phenomenes hasardeures)"
   ]
  },
  {
   "cell_type": "code",
   "execution_count": 204,
   "id": "e633967b",
   "metadata": {
    "ExecuteTime": {
     "end_time": "2023-10-24T09:16:43.628480Z",
     "start_time": "2023-10-24T09:16:43.596914Z"
    }
   },
   "outputs": [
    {
     "data": {
      "text/html": [
       "<div>\n",
       "<style scoped>\n",
       "    .dataframe tbody tr th:only-of-type {\n",
       "        vertical-align: middle;\n",
       "    }\n",
       "\n",
       "    .dataframe tbody tr th {\n",
       "        vertical-align: top;\n",
       "    }\n",
       "\n",
       "    .dataframe thead th {\n",
       "        text-align: right;\n",
       "    }\n",
       "</style>\n",
       "<table border=\"1\" class=\"dataframe\">\n",
       "  <thead>\n",
       "    <tr style=\"text-align: right;\">\n",
       "      <th></th>\n",
       "      <th>carat</th>\n",
       "      <th>depth</th>\n",
       "      <th>table</th>\n",
       "      <th>volume</th>\n",
       "      <th>cut_Fair</th>\n",
       "      <th>cut_Good</th>\n",
       "      <th>cut_Ideal</th>\n",
       "      <th>cut_Premium</th>\n",
       "      <th>cut_Very Good</th>\n",
       "      <th>color_D</th>\n",
       "      <th>...</th>\n",
       "      <th>color_I</th>\n",
       "      <th>color_J</th>\n",
       "      <th>clarity_I1</th>\n",
       "      <th>clarity_IF</th>\n",
       "      <th>clarity_SI1</th>\n",
       "      <th>clarity_SI2</th>\n",
       "      <th>clarity_VS1</th>\n",
       "      <th>clarity_VS2</th>\n",
       "      <th>clarity_VVS1</th>\n",
       "      <th>clarity_VVS2</th>\n",
       "    </tr>\n",
       "  </thead>\n",
       "  <tbody>\n",
       "    <tr>\n",
       "      <th>0</th>\n",
       "      <td>0.23</td>\n",
       "      <td>61.5</td>\n",
       "      <td>55.0</td>\n",
       "      <td>38.20203</td>\n",
       "      <td>0</td>\n",
       "      <td>0</td>\n",
       "      <td>1</td>\n",
       "      <td>0</td>\n",
       "      <td>0</td>\n",
       "      <td>0</td>\n",
       "      <td>...</td>\n",
       "      <td>0</td>\n",
       "      <td>0</td>\n",
       "      <td>0</td>\n",
       "      <td>0</td>\n",
       "      <td>0</td>\n",
       "      <td>1</td>\n",
       "      <td>0</td>\n",
       "      <td>0</td>\n",
       "      <td>0</td>\n",
       "      <td>0</td>\n",
       "    </tr>\n",
       "  </tbody>\n",
       "</table>\n",
       "<p>1 rows × 24 columns</p>\n",
       "</div>"
      ],
      "text/plain": [
       "   carat  depth  table    volume  cut_Fair  cut_Good  cut_Ideal  cut_Premium  \\\n",
       "0   0.23   61.5   55.0  38.20203         0         0          1            0   \n",
       "\n",
       "   cut_Very Good  color_D  ...  color_I  color_J  clarity_I1  clarity_IF  \\\n",
       "0              0        0  ...        0        0           0           0   \n",
       "\n",
       "   clarity_SI1  clarity_SI2  clarity_VS1  clarity_VS2  clarity_VVS1  \\\n",
       "0            0            1            0            0             0   \n",
       "\n",
       "   clarity_VVS2  \n",
       "0             0  \n",
       "\n",
       "[1 rows x 24 columns]"
      ]
     },
     "execution_count": 204,
     "metadata": {},
     "output_type": "execute_result"
    }
   ],
   "source": [
    "X.head(1)"
   ]
  },
  {
   "cell_type": "code",
   "execution_count": 205,
   "id": "1d85e56f",
   "metadata": {
    "ExecuteTime": {
     "end_time": "2023-10-24T09:16:43.860290Z",
     "start_time": "2023-10-24T09:16:43.835798Z"
    }
   },
   "outputs": [
    {
     "data": {
      "text/plain": [
       "array([ 7.92511172e+03, -1.07055725e+01, -1.97532844e+01,  6.05906016e+00,\n",
       "       -6.10538929e+02,  9.87479556e-01,  2.65009910e+02,  1.79565882e+02,\n",
       "        1.64975658e+02,  8.28916696e+02,  6.16606849e+02,  5.18940683e+02,\n",
       "        3.17259318e+02, -1.53789937e+02, -6.10538381e+02, -1.51739523e+03,\n",
       "       -3.77624232e+03,  1.58651876e+03, -2.27403457e+02, -1.16022235e+03,\n",
       "        7.24322329e+02,  4.18838483e+02,  1.27246994e+03,  1.16171861e+03])"
      ]
     },
     "execution_count": 205,
     "metadata": {},
     "output_type": "execute_result"
    }
   ],
   "source": [
    "model.coef_"
   ]
  },
  {
   "cell_type": "raw",
   "id": "1cff5393",
   "metadata": {},
   "source": [
    "avec le modele de la regression, on peut calculer le prix avec la formule:\n",
    "price=4170*carat-32*depth-64*table+55*volume+....."
   ]
  },
  {
   "cell_type": "code",
   "execution_count": 206,
   "id": "a9d4e45a",
   "metadata": {
    "ExecuteTime": {
     "end_time": "2023-10-24T09:16:45.008075Z",
     "start_time": "2023-10-24T09:16:44.472526Z"
    }
   },
   "outputs": [
    {
     "data": {
      "image/png": "[encoded data removed]",
      "text/plain": [
       "<Figure size 576x396 with 1 Axes>"
      ]
     },
     "metadata": {},
     "output_type": "display_data"
    }
   ],
   "source": [
    "from yellowbrick.target import FeatureCorrelation\n",
    "import numpy as np\n",
    "visualizer = FeatureCorrelation()\n",
    "visualizer.fit(X, y)        # Fit the data to the visualizer\n",
    "visualizer.show()   ;        # Finalize and render the figure"
   ]
  },
  {
   "cell_type": "code",
   "execution_count": 207,
   "id": "0c31ff27",
   "metadata": {
    "ExecuteTime": {
     "end_time": "2023-10-24T09:16:45.626009Z",
     "start_time": "2023-10-24T09:16:45.012529Z"
    }
   },
   "outputs": [
    {
     "name": "stderr",
     "output_type": "stream",
     "text": [
      "C:\\Users\\sambe\\anaconda3\\lib\\site-packages\\scipy\\stats\\morestats.py:1760: UserWarning: p-value may not be accurate for N > 5000.\n",
      "  warnings.warn(\"p-value may not be accurate for N > 5000.\")\n"
     ]
    },
    {
     "data": {
      "image/png": "[encoded data removed]",
      "text/plain": [
       "<Figure size 576x396 with 1 Axes>"
      ]
     },
     "metadata": {},
     "output_type": "display_data"
    },
    {
     "data": {
      "text/plain": [
       "<AxesSubplot:title={'center':'Shapiro Ranking of 24 Features'}>"
      ]
     },
     "execution_count": 207,
     "metadata": {},
     "output_type": "execute_result"
    }
   ],
   "source": [
    "from yellowbrick.features import Rank1D\n",
    "\n",
    "# Instantiate the 1D visualizer with the Shapiro ranking algorithm\n",
    "visualizer = Rank1D(algorithm='shapiro')\n",
    "\n",
    "visualizer.fit(X, y)           # Fit the data to the visualizer\n",
    "visualizer.transform(X)        # Transform the data\n",
    "visualizer.show()              # Finalize and render the figure"
   ]
  },
  {
   "cell_type": "code",
   "execution_count": 209,
   "id": "a1945542",
   "metadata": {
    "ExecuteTime": {
     "end_time": "2023-10-24T09:17:29.755378Z",
     "start_time": "2023-10-24T09:17:29.305084Z"
    }
   },
   "outputs": [
    {
     "name": "stderr",
     "output_type": "stream",
     "text": [
      "C:\\Users\\sambe\\anaconda3\\lib\\site-packages\\sklearn\\base.py:450: UserWarning: X does not have valid feature names, but LinearRegression was fitted with feature names\n",
      "  warnings.warn(\n"
     ]
    },
    {
     "data": {
      "image/png": "[encoded data removed]",
      "text/plain": [
       "<Figure size 576x396 with 1 Axes>"
      ]
     },
     "metadata": {},
     "output_type": "display_data"
    }
   ],
   "source": [
    "\n",
    "from yellowbrick.model_selection import FeatureImportances\n",
    "viz = FeatureImportances(model)\n",
    "viz.fit(X_test, y_test)\n",
    "viz.show();"
   ]
  },
  {
   "cell_type": "code",
   "execution_count": 211,
   "id": "83b51777",
   "metadata": {
    "ExecuteTime": {
     "end_time": "2023-10-24T09:19:50.369969Z",
     "start_time": "2023-10-24T09:19:49.898846Z"
    }
   },
   "outputs": [
    {
     "name": "stderr",
     "output_type": "stream",
     "text": [
      "C:\\Users\\sambe\\anaconda3\\lib\\site-packages\\sklearn\\base.py:450: UserWarning: X does not have valid feature names, but LinearRegression was fitted with feature names\n",
      "  warnings.warn(\n"
     ]
    },
    {
     "data": {
      "image/png": "[encoded data removed]",
      "text/plain": [
       "<Figure size 576x396 with 1 Axes>"
      ]
     },
     "metadata": {},
     "output_type": "display_data"
    }
   ],
   "source": [
    "viz = FeatureImportances(model, relative=False)\n",
    "viz.fit(X_test, y_test)\n",
    "viz.show();"
   ]
  },
  {
   "cell_type": "code",
   "execution_count": null,
   "id": "bf983008",
   "metadata": {},
   "outputs": [],
   "source": [
    "#maintenant il faut tourner le modele sans les donnees volume, cut_good, depth, table "
   ]
  },
  {
   "cell_type": "code",
   "execution_count": 212,
   "id": "dbe76046",
   "metadata": {
    "ExecuteTime": {
     "end_time": "2023-10-24T09:24:58.468923Z",
     "start_time": "2023-10-24T09:24:58.452183Z"
    }
   },
   "outputs": [
    {
     "data": {
      "text/plain": [
       "(53794, 24)"
      ]
     },
     "execution_count": 212,
     "metadata": {},
     "output_type": "execute_result"
    }
   ],
   "source": [
    "X.shape"
   ]
  },
  {
   "cell_type": "code",
   "execution_count": 214,
   "id": "14515712",
   "metadata": {
    "ExecuteTime": {
     "end_time": "2023-10-24T09:34:40.298032Z",
     "start_time": "2023-10-24T09:34:38.421097Z"
    }
   },
   "outputs": [
    {
     "data": {
      "image/png": "[encoded data removed]",
      "text/plain": [
       "<Figure size 576x396 with 1 Axes>"
      ]
     },
     "metadata": {},
     "output_type": "display_data"
    },
    {
     "data": {
      "text/plain": [
       "<AxesSubplot:title={'center':'Learning Curve for LinearRegression'}, xlabel='Training Instances', ylabel='Score'>"
      ]
     },
     "execution_count": 214,
     "metadata": {},
     "output_type": "execute_result"
    }
   ],
   "source": [
    "\n",
    "from yellowbrick.model_selection import LearningCurve\n",
    "\n",
    "# Instantiate the regression model and visualizer\n",
    "visualizer = LearningCurve(model)\n",
    "\n",
    "visualizer.fit(X, y)        # Fit the data to the visualizer\n",
    "visualizer.show()           # Finalize and render the figure"
   ]
  },
  {
   "cell_type": "code",
   "execution_count": null,
   "id": "fa1a296e",
   "metadata": {},
   "outputs": [],
   "source": [
    "#conclusion: il n'est pas necessaire de demander plus de données (cout elevé, temps de calcul)"
   ]
  }
 ],
 "metadata": {
  "kernelspec": {
   "display_name": "Python 3 (ipykernel)",
   "language": "python",
   "name": "python3"
  },
  "language_info": {
   "codemirror_mode": {
    "name": "ipython",
    "version": 3
   },
   "file_extension": ".py",
   "mimetype": "text/x-python",
   "name": "python",
   "nbconvert_exporter": "python",
   "pygments_lexer": "ipython3",
   "version": "3.12.2"
  },
  "toc": {
   "base_numbering": 1,
   "nav_menu": {},
   "number_sections": true,
   "sideBar": true,
   "skip_h1_title": false,
   "title_cell": "Table of Contents",
   "title_sidebar": "Contents",
   "toc_cell": false,
   "toc_position": {
    "height": "calc(100% - 180px)",
    "left": "10px",
    "top": "150px",
    "width": "245.75px"
   },
   "toc_section_display": true,
   "toc_window_display": true
  }
 },
 "nbformat": 4,
 "nbformat_minor": 5
}
